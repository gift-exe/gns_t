{
 "cells": [
  {
   "cell_type": "code",
   "execution_count": 1,
   "metadata": {},
   "outputs": [],
   "source": [
    "import gns3fy\n",
    "from gns3fy import Gns3Connector\n",
    "from gns3fy import Node, Link"
   ]
  },
  {
   "cell_type": "code",
   "execution_count": 56,
   "metadata": {},
   "outputs": [],
   "source": [
    "server = Gns3Connector('http://localhost:3080')\n",
    "lab = gns3fy.Project(name='test2', connector=server)\n",
    "lab.get()"
   ]
  },
  {
   "cell_type": "code",
   "execution_count": 58,
   "metadata": {},
   "outputs": [],
   "source": [
    "pid = lab.project_id"
   ]
  },
  {
   "cell_type": "code",
   "execution_count": 4,
   "metadata": {},
   "outputs": [
    {
     "data": {
      "text/plain": [
       "'opened'"
      ]
     },
     "execution_count": 4,
     "metadata": {},
     "output_type": "execute_result"
    }
   ],
   "source": [
    "lab.status"
   ]
  },
  {
   "cell_type": "code",
   "execution_count": 15,
   "metadata": {},
   "outputs": [
    {
     "name": "stdout",
     "output_type": "stream",
     "text": [
      "alpine1: Ethernet1 ---- host1: Ethernet0\n",
      "alpine1: Ethernet2 ---- host2: Ethernet0\n",
      "Switch4: Ethernet0 ---- PC3: Ethernet0\n",
      "Switch4: Ethernet1 ---- PC8: Ethernet0\n",
      "Switch1: Ethernet0 ---- PC2: Ethernet0\n",
      "Switch1: Ethernet1 ---- PC7: Ethernet0\n",
      "Switch2: Ethernet0 ---- PC1: Ethernet0\n",
      "Switch2: Ethernet1 ---- PC6: Ethernet0\n",
      "Switch3: Ethernet0 ---- PC4: Ethernet0\n",
      "Switch3: Ethernet1 ---- PC5: Ethernet0\n",
      "Switch4: Ethernet2 ---- Switch1: Ethernet2\n",
      "Switch1: Ethernet3 ---- Switch2: Ethernet2\n",
      "Switch2: Ethernet3 ---- Switch3: Ethernet2\n",
      "Switch3: Ethernet3 ---- alpine1: Ethernet0\n"
     ]
    }
   ],
   "source": [
    "lab.links_summary()"
   ]
  },
  {
   "cell_type": "code",
   "execution_count": 29,
   "metadata": {},
   "outputs": [],
   "source": [
    "s2 = Node(project_id=pid, name='s2', connector=server, template='Ethernet switch')\n",
    "s2.create()"
   ]
  },
  {
   "cell_type": "code",
   "execution_count": null,
   "metadata": {},
   "outputs": [],
   "source": []
  },
  {
   "cell_type": "code",
   "execution_count": 65,
   "metadata": {},
   "outputs": [],
   "source": [
    "host1 = Node(project_id=pid, name='host1', connector=server, template='VPCS')\n",
    "host2 = Node(project_id=pid, name='host2', connector=server, template='VPCS')"
   ]
  },
  {
   "cell_type": "code",
   "execution_count": 7,
   "metadata": {},
   "outputs": [],
   "source": [
    "# host1.create()\n",
    "# host2.create()\n",
    "\n",
    "host1.get()\n",
    "host2.get()"
   ]
  },
  {
   "cell_type": "code",
   "execution_count": 8,
   "metadata": {},
   "outputs": [
    {
     "data": {
      "text/plain": [
       "[{'adapter_number': 0,\n",
       "  'data_link_types': {'Ethernet': 'DLT_EN10MB'},\n",
       "  'link_type': 'ethernet',\n",
       "  'name': 'Ethernet0',\n",
       "  'port_number': 0,\n",
       "  'short_name': 'e0'}]"
      ]
     },
     "execution_count": 8,
     "metadata": {},
     "output_type": "execute_result"
    }
   ],
   "source": [
    "host1.ports"
   ]
  },
  {
   "cell_type": "markdown",
   "metadata": {},
   "source": []
  },
  {
   "cell_type": "code",
   "execution_count": 9,
   "metadata": {},
   "outputs": [],
   "source": [
    "# nodes = [\n",
    "#     dict(node_id=alpine1.node_id, adapter_number=0, port_number=1),\n",
    "#     dict(node_id=host1.node_id, adapter_number=0, port_number=0)\n",
    "# ]\n",
    "\n",
    "# h1_ap1_link = Link(project_id=pid, nodes=nodes, connector=server)\n",
    "# h1_ap1_link.create()"
   ]
  },
  {
   "cell_type": "code",
   "execution_count": 10,
   "metadata": {},
   "outputs": [],
   "source": [
    "# nodes = [\n",
    "#     dict(node_id=alpine1.node_id, adapter_number=0, port_number=2),\n",
    "#     dict(node_id=host2.node_id, adapter_number=0, port_number=0)\n",
    "# ]\n",
    "\n",
    "# h2_ap1_link = Link(project_id=pid, nodes=nodes, connector=server)\n",
    "# h2_ap1_link.create()"
   ]
  },
  {
   "cell_type": "code",
   "execution_count": 10,
   "metadata": {},
   "outputs": [],
   "source": [
    "import telnetlib\n",
    "import time"
   ]
  },
  {
   "cell_type": "code",
   "execution_count": 86,
   "metadata": {},
   "outputs": [],
   "source": [
    "h1_console = telnetlib.Telnet('127.0.0.1', 5002, timeout=30)\n",
    "h1_console.write(b'show ip\\n')\n",
    "data = h1_console.read_until(b'EOF\\n', timeout=0.1)\n",
    "f = open('ips', 'w')\n",
    "f.write(data.decode('utf-8'))\n",
    "f.close()\n",
    "h1_console.close()"
   ]
  },
  {
   "cell_type": "code",
   "execution_count": 106,
   "metadata": {},
   "outputs": [
    {
     "name": "stdout",
     "output_type": "stream",
     "text": [
      "192.168.1.2/8\n"
     ]
    }
   ],
   "source": [
    "import re\n",
    "pattern = r'(\\d+.\\d+.\\d+.\\d+/\\d+)'\n",
    "match = re.search(pattern, data.decode(\"utf-8\"))\n",
    "if match:\n",
    "        print(match.group(1))"
   ]
  },
  {
   "cell_type": "code",
   "execution_count": 13,
   "metadata": {},
   "outputs": [],
   "source": [
    "import re\n",
    "def extract_ip(data):        \n",
    "    pattern = r'(\\d+.\\d+.\\d+.\\d+/\\d+)'\n",
    "    match = re.search(pattern, data.decode(\"utf-8\"))\n",
    "    if match:\n",
    "        return match.group(1)\n",
    "    raise KeyError()"
   ]
  },
  {
   "cell_type": "code",
   "execution_count": 1,
   "metadata": {},
   "outputs": [],
   "source": [
    "def get_ip(node) -> None:\n",
    "    console = telnetlib.Telnet('127.0.0.1', node.console, timeout=5)\n",
    "    console.write(b'show ip\\n')\n",
    "    data = console.read_until(b'EOF\\n', timeout=0.1)\n",
    "    try:\n",
    "        ip = extract_ip(data)\n",
    "    except KeyError:\n",
    "        print(f'ip not found for node {node.name} with port: {node.console}')\n",
    "\n",
    "    f = open('ips', 'a')\n",
    "    f.write(f'{node.name}, {node.console}, {ip}\\n')\n",
    "    f.close()\n",
    "    console.close()\n",
    "\n",
    "def set_ip(node, ip_addr, gateway_addr) -> None:\n",
    "    console = telnetlib.Telnet('127.0.0.1', node.console, timeout=5)\n",
    "    cmd = f'ip {ip_addr} {gateway_addr}\\n'\n",
    "    console.write(cmd.encode('utf-8'))\n",
    "    data = console.read_until(b'EOF\\n', timeout=0.1)\n",
    "    console.close()\n",
    "\n"
   ]
  },
  {
   "cell_type": "code",
   "execution_count": 7,
   "metadata": {},
   "outputs": [],
   "source": [
    "pc4 = Node(project_id=pid, name='PC4', connector=server, template='VPCS')\n",
    "pc4.get()"
   ]
  },
  {
   "cell_type": "code",
   "execution_count": 14,
   "metadata": {},
   "outputs": [
    {
     "name": "stdout",
     "output_type": "stream",
     "text": [
      "b'ip 192.168.1.4 255.0.0.0\\r\\nChecking for duplicate address...\\r\\n'\n"
     ]
    }
   ],
   "source": [
    "set_ip(pc4, '192.168.1.4', '255.0.0.0')"
   ]
  },
  {
   "cell_type": "code",
   "execution_count": 12,
   "metadata": {},
   "outputs": [
    {
     "ename": "NameError",
     "evalue": "name 'extract_ip' is not defined",
     "output_type": "error",
     "traceback": [
      "\u001b[0;31m---------------------------------------------------------------------------\u001b[0m",
      "\u001b[0;31mNameError\u001b[0m                                 Traceback (most recent call last)",
      "Cell \u001b[0;32mIn[12], line 1\u001b[0m\n\u001b[0;32m----> 1\u001b[0m get_ip(pc4)\n",
      "Cell \u001b[0;32mIn[1], line 6\u001b[0m, in \u001b[0;36mget_ip\u001b[0;34m(node)\u001b[0m\n\u001b[1;32m      4\u001b[0m data \u001b[39m=\u001b[39m console\u001b[39m.\u001b[39mread_until(\u001b[39mb\u001b[39m\u001b[39m'\u001b[39m\u001b[39mEOF\u001b[39m\u001b[39m\\n\u001b[39;00m\u001b[39m'\u001b[39m, timeout\u001b[39m=\u001b[39m\u001b[39m0.1\u001b[39m)\n\u001b[1;32m      5\u001b[0m \u001b[39mtry\u001b[39;00m:\n\u001b[0;32m----> 6\u001b[0m     ip \u001b[39m=\u001b[39m extract_ip(data)\n\u001b[1;32m      7\u001b[0m \u001b[39mexcept\u001b[39;00m \u001b[39mKeyError\u001b[39;00m:\n\u001b[1;32m      8\u001b[0m     \u001b[39mprint\u001b[39m(\u001b[39mf\u001b[39m\u001b[39m'\u001b[39m\u001b[39mip not found for node \u001b[39m\u001b[39m{\u001b[39;00mnode\u001b[39m.\u001b[39mname\u001b[39m}\u001b[39;00m\u001b[39m with port: \u001b[39m\u001b[39m{\u001b[39;00mnode\u001b[39m.\u001b[39mconsole\u001b[39m}\u001b[39;00m\u001b[39m'\u001b[39m)\n",
      "\u001b[0;31mNameError\u001b[0m: name 'extract_ip' is not defined"
     ]
    }
   ],
   "source": [
    "get_ip(pc4)"
   ]
  },
  {
   "cell_type": "code",
   "execution_count": 108,
   "metadata": {},
   "outputs": [],
   "source": [
    "nodes = lab.nodes\n",
    "for node in nodes:\n",
    "    if node.node_type == 'vpcs':\n",
    "        get_ip(node)"
   ]
  },
  {
   "cell_type": "markdown",
   "metadata": {},
   "source": [
    "##### aight now to build the tree topology : )\n",
    "##### soooo how would it look like sef"
   ]
  },
  {
   "cell_type": "code",
   "execution_count": 8,
   "metadata": {},
   "outputs": [
    {
     "data": {
      "text/plain": [
       "[]"
      ]
     },
     "execution_count": 8,
     "metadata": {},
     "output_type": "execute_result"
    }
   ],
   "source": [
    "pc9 = Node(project_id=pid, name='pc9', connector=server, template='VPCS').create()\n"
   ]
  },
  {
   "cell_type": "code",
   "execution_count": 10,
   "metadata": {},
   "outputs": [
    {
     "data": {
      "text/plain": [
       "[Node(name='pc9', project_id='fdd91169-ceac-4c27-aacb-b3ad16ff725a', node_id='eddf4e60-5538-4032-8715-7831d3766cb9', compute_id='local', node_type='vpcs', node_directory='/home/g1f7/GNS3/projects/fdd91169-ceac-4c27-aacb-b3ad16ff725a/project-files/vpcs/eddf4e60-5538-4032-8715-7831d3766cb9', status='stopped', ports=[{'adapter_number': 0, 'data_link_types': {'Ethernet': 'DLT_EN10MB'}, 'link_type': 'ethernet', 'name': 'Ethernet0', 'port_number': 0, 'short_name': 'e0'}], port_name_format='Ethernet{0}', port_segment_size=0, first_port_name=None, locked=False, label={'rotation': 0, 'style': None, 'text': 'pc9', 'x': None, 'y': -40}, console=5028, console_host='0.0.0.0', console_type='telnet', console_auto_start=False, command_line='', custom_adapters=[], height=59, width=65, symbol=':/symbols/vpcs_guest.svg', x=-687, y=-257, z=1, template_id='19021f99-e36f-394d-b4a1-8aaa902ab9cc', properties={}, template=None),\n",
       " Node(name='pc1', project_id='fdd91169-ceac-4c27-aacb-b3ad16ff725a', node_id='3238a6e8-9297-438e-a0eb-b3eb98daa56d', compute_id='local', node_type='vpcs', node_directory='/home/g1f7/GNS3/projects/fdd91169-ceac-4c27-aacb-b3ad16ff725a/project-files/vpcs/3238a6e8-9297-438e-a0eb-b3eb98daa56d', status='stopped', ports=[{'adapter_number': 0, 'data_link_types': {'Ethernet': 'DLT_EN10MB'}, 'link_type': 'ethernet', 'name': 'Ethernet0', 'port_number': 0, 'short_name': 'e0'}], port_name_format='Ethernet{0}', port_segment_size=0, first_port_name=None, locked=False, label={'rotation': 0, 'style': None, 'text': 'pc1', 'x': None, 'y': -40}, console=5030, console_host='0.0.0.0', console_type='telnet', console_auto_start=False, command_line='', custom_adapters=[], height=59, width=65, symbol=':/symbols/vpcs_guest.svg', x=-575, y=-252, z=1, template_id='19021f99-e36f-394d-b4a1-8aaa902ab9cc', properties={}, template=None),\n",
       " Node(name='pc2', project_id='fdd91169-ceac-4c27-aacb-b3ad16ff725a', node_id='7bba5e77-d0b0-4779-a8ee-e2449528a04d', compute_id='local', node_type='vpcs', node_directory='/home/g1f7/GNS3/projects/fdd91169-ceac-4c27-aacb-b3ad16ff725a/project-files/vpcs/7bba5e77-d0b0-4779-a8ee-e2449528a04d', status='stopped', ports=[{'adapter_number': 0, 'data_link_types': {'Ethernet': 'DLT_EN10MB'}, 'link_type': 'ethernet', 'name': 'Ethernet0', 'port_number': 0, 'short_name': 'e0'}], port_name_format='Ethernet{0}', port_segment_size=0, first_port_name=None, locked=False, label={'rotation': 0, 'style': None, 'text': 'pc2', 'x': None, 'y': -40}, console=5032, console_host='0.0.0.0', console_type='telnet', console_auto_start=False, command_line='', custom_adapters=[], height=59, width=65, symbol=':/symbols/vpcs_guest.svg', x=-565, y=-72, z=1, template_id='19021f99-e36f-394d-b4a1-8aaa902ab9cc', properties={}, template=None)]"
      ]
     },
     "execution_count": 10,
     "metadata": {},
     "output_type": "execute_result"
    }
   ],
   "source": [
    "lab.get()\n",
    "lab.nodes"
   ]
  },
  {
   "cell_type": "code",
   "execution_count": 59,
   "metadata": {},
   "outputs": [],
   "source": [
    "#create vpcs(es)\n",
    "for i in range(6):\n",
    "    Node(project_id=pid, name=f'pc{i}', connector=server, template='VPCS').create()\n",
    "\n",
    "#create switches\n",
    "for i in range(2):\n",
    "    Node(project_id=pid, name=f's{i}', connector=server, template='Ethernet switch').create()\n",
    "\n"
   ]
  },
  {
   "cell_type": "code",
   "execution_count": 94,
   "metadata": {},
   "outputs": [
    {
     "data": {
      "text/plain": [
       "[Node(name='pc0', project_id='1d8eef6f-440f-4fdc-821a-acd539c6ce58', node_id='f921dc69-7c23-436d-a69f-1966a448ce06', compute_id='local', node_type='vpcs', node_directory='/home/g1f7/GNS3/projects/1d8eef6f-440f-4fdc-821a-acd539c6ce58/project-files/vpcs/f921dc69-7c23-436d-a69f-1966a448ce06', status='stopped', ports=[{'adapter_number': 0, 'data_link_types': {'Ethernet': 'DLT_EN10MB'}, 'link_type': 'ethernet', 'name': 'Ethernet0', 'port_number': 0, 'short_name': 'e0'}], port_name_format='Ethernet{0}', port_segment_size=0, first_port_name=None, locked=False, label={'rotation': 0, 'style': 'font-family: TypeWriter;font-size: 10.0;font-weight: bold;fill: #000000;fill-opacity: 1.0;', 'text': 'pc0', 'x': 21, 'y': -25}, console=5028, console_host='0.0.0.0', console_type='telnet', console_auto_start=False, command_line='', custom_adapters=[], height=59, width=65, symbol=':/symbols/vpcs_guest.svg', x=0, y=0, z=1, template_id='19021f99-e36f-394d-b4a1-8aaa902ab9cc', properties={}, template=None),\n",
       " Node(name='pc1', project_id='1d8eef6f-440f-4fdc-821a-acd539c6ce58', node_id='dd0b54ee-fc2b-4ae9-ba53-34e8ad9fa57e', compute_id='local', node_type='vpcs', node_directory='/home/g1f7/GNS3/projects/1d8eef6f-440f-4fdc-821a-acd539c6ce58/project-files/vpcs/dd0b54ee-fc2b-4ae9-ba53-34e8ad9fa57e', status='stopped', ports=[{'adapter_number': 0, 'data_link_types': {'Ethernet': 'DLT_EN10MB'}, 'link_type': 'ethernet', 'name': 'Ethernet0', 'port_number': 0, 'short_name': 'e0'}], port_name_format='Ethernet{0}', port_segment_size=0, first_port_name=None, locked=False, label={'rotation': 0, 'style': 'font-family: TypeWriter;font-size: 10.0;font-weight: bold;fill: #000000;fill-opacity: 1.0;', 'text': 'pc1', 'x': 21, 'y': -25}, console=5030, console_host='0.0.0.0', console_type='telnet', console_auto_start=False, command_line='', custom_adapters=[], height=59, width=65, symbol=':/symbols/vpcs_guest.svg', x=-307, y=10, z=1, template_id='19021f99-e36f-394d-b4a1-8aaa902ab9cc', properties={}, template=None),\n",
       " Node(name='pc2', project_id='1d8eef6f-440f-4fdc-821a-acd539c6ce58', node_id='144ba133-d93d-4999-9d50-ef5948530d90', compute_id='local', node_type='vpcs', node_directory='/home/g1f7/GNS3/projects/1d8eef6f-440f-4fdc-821a-acd539c6ce58/project-files/vpcs/144ba133-d93d-4999-9d50-ef5948530d90', status='stopped', ports=[{'adapter_number': 0, 'data_link_types': {'Ethernet': 'DLT_EN10MB'}, 'link_type': 'ethernet', 'name': 'Ethernet0', 'port_number': 0, 'short_name': 'e0'}], port_name_format='Ethernet{0}', port_segment_size=0, first_port_name=None, locked=False, label={'rotation': 0, 'style': 'font-family: TypeWriter;font-size: 10.0;font-weight: bold;fill: #000000;fill-opacity: 1.0;', 'text': 'pc2', 'x': 21, 'y': -25}, console=5032, console_host='0.0.0.0', console_type='telnet', console_auto_start=False, command_line='', custom_adapters=[], height=59, width=65, symbol=':/symbols/vpcs_guest.svg', x=-408, y=-20, z=1, template_id='19021f99-e36f-394d-b4a1-8aaa902ab9cc', properties={}, template=None),\n",
       " Node(name='pc3', project_id='1d8eef6f-440f-4fdc-821a-acd539c6ce58', node_id='2b5b1795-3e09-40de-8533-034501e19ce0', compute_id='local', node_type='vpcs', node_directory='/home/g1f7/GNS3/projects/1d8eef6f-440f-4fdc-821a-acd539c6ce58/project-files/vpcs/2b5b1795-3e09-40de-8533-034501e19ce0', status='stopped', ports=[{'adapter_number': 0, 'data_link_types': {'Ethernet': 'DLT_EN10MB'}, 'link_type': 'ethernet', 'name': 'Ethernet0', 'port_number': 0, 'short_name': 'e0'}], port_name_format='Ethernet{0}', port_segment_size=0, first_port_name=None, locked=False, label={'rotation': 0, 'style': 'font-family: TypeWriter;font-size: 10.0;font-weight: bold;fill: #000000;fill-opacity: 1.0;', 'text': 'pc3', 'x': 21, 'y': -25}, console=5034, console_host='0.0.0.0', console_type='telnet', console_auto_start=False, command_line='', custom_adapters=[], height=59, width=65, symbol=':/symbols/vpcs_guest.svg', x=-823, y=53, z=1, template_id='19021f99-e36f-394d-b4a1-8aaa902ab9cc', properties={}, template=None),\n",
       " Node(name='pc4', project_id='1d8eef6f-440f-4fdc-821a-acd539c6ce58', node_id='f414a4b9-4846-41f8-8b32-22f507ff8964', compute_id='local', node_type='vpcs', node_directory='/home/g1f7/GNS3/projects/1d8eef6f-440f-4fdc-821a-acd539c6ce58/project-files/vpcs/f414a4b9-4846-41f8-8b32-22f507ff8964', status='stopped', ports=[{'adapter_number': 0, 'data_link_types': {'Ethernet': 'DLT_EN10MB'}, 'link_type': 'ethernet', 'name': 'Ethernet0', 'port_number': 0, 'short_name': 'e0'}], port_name_format='Ethernet{0}', port_segment_size=0, first_port_name=None, locked=False, label={'rotation': 0, 'style': 'font-family: TypeWriter;font-size: 10.0;font-weight: bold;fill: #000000;fill-opacity: 1.0;', 'text': 'pc4', 'x': 21, 'y': -25}, console=5036, console_host='0.0.0.0', console_type='telnet', console_auto_start=False, command_line='', custom_adapters=[], height=59, width=65, symbol=':/symbols/vpcs_guest.svg', x=-1062, y=-142, z=1, template_id='19021f99-e36f-394d-b4a1-8aaa902ab9cc', properties={}, template=None),\n",
       " Node(name='pc5', project_id='1d8eef6f-440f-4fdc-821a-acd539c6ce58', node_id='c0ed38fd-58a4-431d-9b81-19c7a8d6161f', compute_id='local', node_type='vpcs', node_directory='/home/g1f7/GNS3/projects/1d8eef6f-440f-4fdc-821a-acd539c6ce58/project-files/vpcs/c0ed38fd-58a4-431d-9b81-19c7a8d6161f', status='stopped', ports=[{'adapter_number': 0, 'data_link_types': {'Ethernet': 'DLT_EN10MB'}, 'link_type': 'ethernet', 'name': 'Ethernet0', 'port_number': 0, 'short_name': 'e0'}], port_name_format='Ethernet{0}', port_segment_size=0, first_port_name=None, locked=False, label={'rotation': 0, 'style': 'font-family: TypeWriter;font-size: 10.0;font-weight: bold;fill: #000000;fill-opacity: 1.0;', 'text': 'pc5', 'x': 21, 'y': -25}, console=5038, console_host='0.0.0.0', console_type='telnet', console_auto_start=False, command_line='', custom_adapters=[], height=59, width=65, symbol=':/symbols/vpcs_guest.svg', x=-935, y=105, z=1, template_id='19021f99-e36f-394d-b4a1-8aaa902ab9cc', properties={}, template=None),\n",
       " Node(name='s0', project_id='1d8eef6f-440f-4fdc-821a-acd539c6ce58', node_id='62231514-7213-4e83-b7dc-42113817b781', compute_id='local', node_type='ethernet_switch', node_directory=None, status='started', ports=[{'adapter_number': 0, 'data_link_types': {'Ethernet': 'DLT_EN10MB'}, 'link_type': 'ethernet', 'name': 'Ethernet0', 'port_number': 0, 'short_name': 'e0'}, {'adapter_number': 0, 'data_link_types': {'Ethernet': 'DLT_EN10MB'}, 'link_type': 'ethernet', 'name': 'Ethernet1', 'port_number': 1, 'short_name': 'e1'}, {'adapter_number': 0, 'data_link_types': {'Ethernet': 'DLT_EN10MB'}, 'link_type': 'ethernet', 'name': 'Ethernet2', 'port_number': 2, 'short_name': 'e2'}, {'adapter_number': 0, 'data_link_types': {'Ethernet': 'DLT_EN10MB'}, 'link_type': 'ethernet', 'name': 'Ethernet3', 'port_number': 3, 'short_name': 'e3'}, {'adapter_number': 0, 'data_link_types': {'Ethernet': 'DLT_EN10MB'}, 'link_type': 'ethernet', 'name': 'Ethernet4', 'port_number': 4, 'short_name': 'e4'}, {'adapter_number': 0, 'data_link_types': {'Ethernet': 'DLT_EN10MB'}, 'link_type': 'ethernet', 'name': 'Ethernet5', 'port_number': 5, 'short_name': 'e5'}, {'adapter_number': 0, 'data_link_types': {'Ethernet': 'DLT_EN10MB'}, 'link_type': 'ethernet', 'name': 'Ethernet6', 'port_number': 6, 'short_name': 'e6'}, {'adapter_number': 0, 'data_link_types': {'Ethernet': 'DLT_EN10MB'}, 'link_type': 'ethernet', 'name': 'Ethernet7', 'port_number': 7, 'short_name': 'e7'}], port_name_format='Ethernet{0}', port_segment_size=0, first_port_name=None, locked=False, label={'rotation': 0, 'style': 'font-family: TypeWriter;font-size: 10.0;font-weight: bold;fill: #000000;fill-opacity: 1.0;', 'text': 's0', 'x': 29, 'y': -25}, console=5040, console_host='0.0.0.0', console_type='none', console_auto_start=False, command_line=None, custom_adapters=[], height=32, width=72, symbol=':/symbols/ethernet_switch.svg', x=-377, y=-615, z=1, template_id='1966b864-93e7-32d5-965f-001384eec461', properties={'ports_mapping': [{'name': 'Ethernet0', 'port_number': 0, 'type': 'access', 'vlan': 1}, {'name': 'Ethernet1', 'port_number': 1, 'type': 'access', 'vlan': 1}, {'name': 'Ethernet2', 'port_number': 2, 'type': 'access', 'vlan': 1}, {'name': 'Ethernet3', 'port_number': 3, 'type': 'access', 'vlan': 1}, {'name': 'Ethernet4', 'port_number': 4, 'type': 'access', 'vlan': 1}, {'name': 'Ethernet5', 'port_number': 5, 'type': 'access', 'vlan': 1}, {'name': 'Ethernet6', 'port_number': 6, 'type': 'access', 'vlan': 1}, {'name': 'Ethernet7', 'port_number': 7, 'type': 'access', 'vlan': 1}]}, template=None),\n",
       " Node(name='s1', project_id='1d8eef6f-440f-4fdc-821a-acd539c6ce58', node_id='1532d9d6-e847-40c9-8985-dac6d57f01d9', compute_id='local', node_type='ethernet_switch', node_directory=None, status='started', ports=[{'adapter_number': 0, 'data_link_types': {'Ethernet': 'DLT_EN10MB'}, 'link_type': 'ethernet', 'name': 'Ethernet0', 'port_number': 0, 'short_name': 'e0'}, {'adapter_number': 0, 'data_link_types': {'Ethernet': 'DLT_EN10MB'}, 'link_type': 'ethernet', 'name': 'Ethernet1', 'port_number': 1, 'short_name': 'e1'}, {'adapter_number': 0, 'data_link_types': {'Ethernet': 'DLT_EN10MB'}, 'link_type': 'ethernet', 'name': 'Ethernet2', 'port_number': 2, 'short_name': 'e2'}, {'adapter_number': 0, 'data_link_types': {'Ethernet': 'DLT_EN10MB'}, 'link_type': 'ethernet', 'name': 'Ethernet3', 'port_number': 3, 'short_name': 'e3'}, {'adapter_number': 0, 'data_link_types': {'Ethernet': 'DLT_EN10MB'}, 'link_type': 'ethernet', 'name': 'Ethernet4', 'port_number': 4, 'short_name': 'e4'}, {'adapter_number': 0, 'data_link_types': {'Ethernet': 'DLT_EN10MB'}, 'link_type': 'ethernet', 'name': 'Ethernet5', 'port_number': 5, 'short_name': 'e5'}, {'adapter_number': 0, 'data_link_types': {'Ethernet': 'DLT_EN10MB'}, 'link_type': 'ethernet', 'name': 'Ethernet6', 'port_number': 6, 'short_name': 'e6'}, {'adapter_number': 0, 'data_link_types': {'Ethernet': 'DLT_EN10MB'}, 'link_type': 'ethernet', 'name': 'Ethernet7', 'port_number': 7, 'short_name': 'e7'}], port_name_format='Ethernet{0}', port_segment_size=0, first_port_name=None, locked=False, label={'rotation': 0, 'style': 'font-family: TypeWriter;font-size: 10.0;font-weight: bold;fill: #000000;fill-opacity: 1.0;', 'text': 's1', 'x': 29, 'y': -25}, console=5041, console_host='0.0.0.0', console_type='none', console_auto_start=False, command_line=None, custom_adapters=[], height=32, width=72, symbol=':/symbols/ethernet_switch.svg', x=-892, y=-524, z=1, template_id='1966b864-93e7-32d5-965f-001384eec461', properties={'ports_mapping': [{'name': 'Ethernet0', 'port_number': 0, 'type': 'access', 'vlan': 1}, {'name': 'Ethernet1', 'port_number': 1, 'type': 'access', 'vlan': 1}, {'name': 'Ethernet2', 'port_number': 2, 'type': 'access', 'vlan': 1}, {'name': 'Ethernet3', 'port_number': 3, 'type': 'access', 'vlan': 1}, {'name': 'Ethernet4', 'port_number': 4, 'type': 'access', 'vlan': 1}, {'name': 'Ethernet5', 'port_number': 5, 'type': 'access', 'vlan': 1}, {'name': 'Ethernet6', 'port_number': 6, 'type': 'access', 'vlan': 1}, {'name': 'Ethernet7', 'port_number': 7, 'type': 'access', 'vlan': 1}]}, template=None),\n",
       " Node(name='s2', project_id='1d8eef6f-440f-4fdc-821a-acd539c6ce58', node_id='f27e7525-afe5-41ce-8bd6-748147c55811', compute_id='local', node_type='ethernet_switch', node_directory=None, status='started', ports=[{'adapter_number': 0, 'data_link_types': {'Ethernet': 'DLT_EN10MB'}, 'link_type': 'ethernet', 'name': 'Ethernet0', 'port_number': 0, 'short_name': 'e0'}, {'adapter_number': 0, 'data_link_types': {'Ethernet': 'DLT_EN10MB'}, 'link_type': 'ethernet', 'name': 'Ethernet1', 'port_number': 1, 'short_name': 'e1'}, {'adapter_number': 0, 'data_link_types': {'Ethernet': 'DLT_EN10MB'}, 'link_type': 'ethernet', 'name': 'Ethernet2', 'port_number': 2, 'short_name': 'e2'}, {'adapter_number': 0, 'data_link_types': {'Ethernet': 'DLT_EN10MB'}, 'link_type': 'ethernet', 'name': 'Ethernet3', 'port_number': 3, 'short_name': 'e3'}, {'adapter_number': 0, 'data_link_types': {'Ethernet': 'DLT_EN10MB'}, 'link_type': 'ethernet', 'name': 'Ethernet4', 'port_number': 4, 'short_name': 'e4'}, {'adapter_number': 0, 'data_link_types': {'Ethernet': 'DLT_EN10MB'}, 'link_type': 'ethernet', 'name': 'Ethernet5', 'port_number': 5, 'short_name': 'e5'}, {'adapter_number': 0, 'data_link_types': {'Ethernet': 'DLT_EN10MB'}, 'link_type': 'ethernet', 'name': 'Ethernet6', 'port_number': 6, 'short_name': 'e6'}, {'adapter_number': 0, 'data_link_types': {'Ethernet': 'DLT_EN10MB'}, 'link_type': 'ethernet', 'name': 'Ethernet7', 'port_number': 7, 'short_name': 'e7'}], port_name_format='Ethernet{0}', port_segment_size=0, first_port_name=None, locked=False, label={'rotation': 0, 'style': None, 'text': 's2', 'x': None, 'y': -26}, console=5042, console_host='0.0.0.0', console_type='none', console_auto_start=False, command_line=None, custom_adapters=[], height=32, width=72, symbol=':/symbols/ethernet_switch.svg', x=0, y=0, z=1, template_id='1966b864-93e7-32d5-965f-001384eec461', properties={'ports_mapping': [{'name': 'Ethernet0', 'port_number': 0, 'type': 'access', 'vlan': 1}, {'name': 'Ethernet1', 'port_number': 1, 'type': 'access', 'vlan': 1}, {'name': 'Ethernet2', 'port_number': 2, 'type': 'access', 'vlan': 1}, {'name': 'Ethernet3', 'port_number': 3, 'type': 'access', 'vlan': 1}, {'name': 'Ethernet4', 'port_number': 4, 'type': 'access', 'vlan': 1}, {'name': 'Ethernet5', 'port_number': 5, 'type': 'access', 'vlan': 1}, {'name': 'Ethernet6', 'port_number': 6, 'type': 'access', 'vlan': 1}, {'name': 'Ethernet7', 'port_number': 7, 'type': 'access', 'vlan': 1}]}, template=None),\n",
       " Node(name='s3', project_id='1d8eef6f-440f-4fdc-821a-acd539c6ce58', node_id='1637c418-f05d-4e97-8aa6-10b7d47ec133', compute_id='local', node_type='ethernet_switch', node_directory=None, status='started', ports=[{'adapter_number': 0, 'data_link_types': {'Ethernet': 'DLT_EN10MB'}, 'link_type': 'ethernet', 'name': 'Ethernet0', 'port_number': 0, 'short_name': 'e0'}, {'adapter_number': 0, 'data_link_types': {'Ethernet': 'DLT_EN10MB'}, 'link_type': 'ethernet', 'name': 'Ethernet1', 'port_number': 1, 'short_name': 'e1'}, {'adapter_number': 0, 'data_link_types': {'Ethernet': 'DLT_EN10MB'}, 'link_type': 'ethernet', 'name': 'Ethernet2', 'port_number': 2, 'short_name': 'e2'}, {'adapter_number': 0, 'data_link_types': {'Ethernet': 'DLT_EN10MB'}, 'link_type': 'ethernet', 'name': 'Ethernet3', 'port_number': 3, 'short_name': 'e3'}, {'adapter_number': 0, 'data_link_types': {'Ethernet': 'DLT_EN10MB'}, 'link_type': 'ethernet', 'name': 'Ethernet4', 'port_number': 4, 'short_name': 'e4'}, {'adapter_number': 0, 'data_link_types': {'Ethernet': 'DLT_EN10MB'}, 'link_type': 'ethernet', 'name': 'Ethernet5', 'port_number': 5, 'short_name': 'e5'}, {'adapter_number': 0, 'data_link_types': {'Ethernet': 'DLT_EN10MB'}, 'link_type': 'ethernet', 'name': 'Ethernet6', 'port_number': 6, 'short_name': 'e6'}, {'adapter_number': 0, 'data_link_types': {'Ethernet': 'DLT_EN10MB'}, 'link_type': 'ethernet', 'name': 'Ethernet7', 'port_number': 7, 'short_name': 'e7'}], port_name_format='Ethernet{0}', port_segment_size=0, first_port_name=None, locked=False, label={'rotation': 0, 'style': None, 'text': 's3', 'x': None, 'y': -26}, console=5043, console_host='0.0.0.0', console_type='none', console_auto_start=False, command_line=None, custom_adapters=[], height=32, width=72, symbol=':/symbols/ethernet_switch.svg', x=0, y=0, z=1, template_id='1966b864-93e7-32d5-965f-001384eec461', properties={'ports_mapping': [{'name': 'Ethernet0', 'port_number': 0, 'type': 'access', 'vlan': 1}, {'name': 'Ethernet1', 'port_number': 1, 'type': 'access', 'vlan': 1}, {'name': 'Ethernet2', 'port_number': 2, 'type': 'access', 'vlan': 1}, {'name': 'Ethernet3', 'port_number': 3, 'type': 'access', 'vlan': 1}, {'name': 'Ethernet4', 'port_number': 4, 'type': 'access', 'vlan': 1}, {'name': 'Ethernet5', 'port_number': 5, 'type': 'access', 'vlan': 1}, {'name': 'Ethernet6', 'port_number': 6, 'type': 'access', 'vlan': 1}, {'name': 'Ethernet7', 'port_number': 7, 'type': 'access', 'vlan': 1}]}, template=None),\n",
       " Node(name='s4', project_id='1d8eef6f-440f-4fdc-821a-acd539c6ce58', node_id='75fc7f9d-95cd-46dd-a842-fc2b4be7d1c7', compute_id='local', node_type='ethernet_switch', node_directory=None, status='started', ports=[{'adapter_number': 0, 'data_link_types': {'Ethernet': 'DLT_EN10MB'}, 'link_type': 'ethernet', 'name': 'Ethernet0', 'port_number': 0, 'short_name': 'e0'}, {'adapter_number': 0, 'data_link_types': {'Ethernet': 'DLT_EN10MB'}, 'link_type': 'ethernet', 'name': 'Ethernet1', 'port_number': 1, 'short_name': 'e1'}, {'adapter_number': 0, 'data_link_types': {'Ethernet': 'DLT_EN10MB'}, 'link_type': 'ethernet', 'name': 'Ethernet2', 'port_number': 2, 'short_name': 'e2'}, {'adapter_number': 0, 'data_link_types': {'Ethernet': 'DLT_EN10MB'}, 'link_type': 'ethernet', 'name': 'Ethernet3', 'port_number': 3, 'short_name': 'e3'}, {'adapter_number': 0, 'data_link_types': {'Ethernet': 'DLT_EN10MB'}, 'link_type': 'ethernet', 'name': 'Ethernet4', 'port_number': 4, 'short_name': 'e4'}, {'adapter_number': 0, 'data_link_types': {'Ethernet': 'DLT_EN10MB'}, 'link_type': 'ethernet', 'name': 'Ethernet5', 'port_number': 5, 'short_name': 'e5'}, {'adapter_number': 0, 'data_link_types': {'Ethernet': 'DLT_EN10MB'}, 'link_type': 'ethernet', 'name': 'Ethernet6', 'port_number': 6, 'short_name': 'e6'}, {'adapter_number': 0, 'data_link_types': {'Ethernet': 'DLT_EN10MB'}, 'link_type': 'ethernet', 'name': 'Ethernet7', 'port_number': 7, 'short_name': 'e7'}], port_name_format='Ethernet{0}', port_segment_size=0, first_port_name=None, locked=False, label={'rotation': 0, 'style': None, 'text': 's4', 'x': None, 'y': -26}, console=5044, console_host='0.0.0.0', console_type='none', console_auto_start=False, command_line=None, custom_adapters=[], height=32, width=72, symbol=':/symbols/ethernet_switch.svg', x=0, y=0, z=1, template_id='1966b864-93e7-32d5-965f-001384eec461', properties={'ports_mapping': [{'name': 'Ethernet0', 'port_number': 0, 'type': 'access', 'vlan': 1}, {'name': 'Ethernet1', 'port_number': 1, 'type': 'access', 'vlan': 1}, {'name': 'Ethernet2', 'port_number': 2, 'type': 'access', 'vlan': 1}, {'name': 'Ethernet3', 'port_number': 3, 'type': 'access', 'vlan': 1}, {'name': 'Ethernet4', 'port_number': 4, 'type': 'access', 'vlan': 1}, {'name': 'Ethernet5', 'port_number': 5, 'type': 'access', 'vlan': 1}, {'name': 'Ethernet6', 'port_number': 6, 'type': 'access', 'vlan': 1}, {'name': 'Ethernet7', 'port_number': 7, 'type': 'access', 'vlan': 1}]}, template=None)]"
      ]
     },
     "execution_count": 94,
     "metadata": {},
     "output_type": "execute_result"
    }
   ],
   "source": [
    "lab.get()\n",
    "lab.nodes"
   ]
  },
  {
   "cell_type": "code",
   "execution_count": 50,
   "metadata": {},
   "outputs": [
    {
     "data": {
      "text/plain": [
       "0"
      ]
     },
     "execution_count": 50,
     "metadata": {},
     "output_type": "execute_result"
    }
   ],
   "source": [
    "3//3"
   ]
  },
  {
   "cell_type": "code",
   "execution_count": 95,
   "metadata": {},
   "outputs": [],
   "source": [
    "s = lab.nodes[6:]\n",
    "n = lab.nodes[:6]\n",
    "\n",
    "\n",
    "\n"
   ]
  },
  {
   "cell_type": "code",
   "execution_count": 91,
   "metadata": {},
   "outputs": [],
   "source": [
    "for i in range(3):\n",
    "    Node(project_id=pid, name=f's{i}', connector=server, template='Ethernet switch').create()\n"
   ]
  },
  {
   "cell_type": "code",
   "execution_count": 96,
   "metadata": {},
   "outputs": [
    {
     "data": {
      "text/plain": [
       "[Node(name='s0', project_id='1d8eef6f-440f-4fdc-821a-acd539c6ce58', node_id='62231514-7213-4e83-b7dc-42113817b781', compute_id='local', node_type='ethernet_switch', node_directory=None, status='started', ports=[{'adapter_number': 0, 'data_link_types': {'Ethernet': 'DLT_EN10MB'}, 'link_type': 'ethernet', 'name': 'Ethernet0', 'port_number': 0, 'short_name': 'e0'}, {'adapter_number': 0, 'data_link_types': {'Ethernet': 'DLT_EN10MB'}, 'link_type': 'ethernet', 'name': 'Ethernet1', 'port_number': 1, 'short_name': 'e1'}, {'adapter_number': 0, 'data_link_types': {'Ethernet': 'DLT_EN10MB'}, 'link_type': 'ethernet', 'name': 'Ethernet2', 'port_number': 2, 'short_name': 'e2'}, {'adapter_number': 0, 'data_link_types': {'Ethernet': 'DLT_EN10MB'}, 'link_type': 'ethernet', 'name': 'Ethernet3', 'port_number': 3, 'short_name': 'e3'}, {'adapter_number': 0, 'data_link_types': {'Ethernet': 'DLT_EN10MB'}, 'link_type': 'ethernet', 'name': 'Ethernet4', 'port_number': 4, 'short_name': 'e4'}, {'adapter_number': 0, 'data_link_types': {'Ethernet': 'DLT_EN10MB'}, 'link_type': 'ethernet', 'name': 'Ethernet5', 'port_number': 5, 'short_name': 'e5'}, {'adapter_number': 0, 'data_link_types': {'Ethernet': 'DLT_EN10MB'}, 'link_type': 'ethernet', 'name': 'Ethernet6', 'port_number': 6, 'short_name': 'e6'}, {'adapter_number': 0, 'data_link_types': {'Ethernet': 'DLT_EN10MB'}, 'link_type': 'ethernet', 'name': 'Ethernet7', 'port_number': 7, 'short_name': 'e7'}], port_name_format='Ethernet{0}', port_segment_size=0, first_port_name=None, locked=False, label={'rotation': 0, 'style': 'font-family: TypeWriter;font-size: 10.0;font-weight: bold;fill: #000000;fill-opacity: 1.0;', 'text': 's0', 'x': 29, 'y': -25}, console=5040, console_host='0.0.0.0', console_type='none', console_auto_start=False, command_line=None, custom_adapters=[], height=32, width=72, symbol=':/symbols/ethernet_switch.svg', x=-377, y=-615, z=1, template_id='1966b864-93e7-32d5-965f-001384eec461', properties={'ports_mapping': [{'name': 'Ethernet0', 'port_number': 0, 'type': 'access', 'vlan': 1}, {'name': 'Ethernet1', 'port_number': 1, 'type': 'access', 'vlan': 1}, {'name': 'Ethernet2', 'port_number': 2, 'type': 'access', 'vlan': 1}, {'name': 'Ethernet3', 'port_number': 3, 'type': 'access', 'vlan': 1}, {'name': 'Ethernet4', 'port_number': 4, 'type': 'access', 'vlan': 1}, {'name': 'Ethernet5', 'port_number': 5, 'type': 'access', 'vlan': 1}, {'name': 'Ethernet6', 'port_number': 6, 'type': 'access', 'vlan': 1}, {'name': 'Ethernet7', 'port_number': 7, 'type': 'access', 'vlan': 1}]}, template=None),\n",
       " Node(name='s1', project_id='1d8eef6f-440f-4fdc-821a-acd539c6ce58', node_id='1532d9d6-e847-40c9-8985-dac6d57f01d9', compute_id='local', node_type='ethernet_switch', node_directory=None, status='started', ports=[{'adapter_number': 0, 'data_link_types': {'Ethernet': 'DLT_EN10MB'}, 'link_type': 'ethernet', 'name': 'Ethernet0', 'port_number': 0, 'short_name': 'e0'}, {'adapter_number': 0, 'data_link_types': {'Ethernet': 'DLT_EN10MB'}, 'link_type': 'ethernet', 'name': 'Ethernet1', 'port_number': 1, 'short_name': 'e1'}, {'adapter_number': 0, 'data_link_types': {'Ethernet': 'DLT_EN10MB'}, 'link_type': 'ethernet', 'name': 'Ethernet2', 'port_number': 2, 'short_name': 'e2'}, {'adapter_number': 0, 'data_link_types': {'Ethernet': 'DLT_EN10MB'}, 'link_type': 'ethernet', 'name': 'Ethernet3', 'port_number': 3, 'short_name': 'e3'}, {'adapter_number': 0, 'data_link_types': {'Ethernet': 'DLT_EN10MB'}, 'link_type': 'ethernet', 'name': 'Ethernet4', 'port_number': 4, 'short_name': 'e4'}, {'adapter_number': 0, 'data_link_types': {'Ethernet': 'DLT_EN10MB'}, 'link_type': 'ethernet', 'name': 'Ethernet5', 'port_number': 5, 'short_name': 'e5'}, {'adapter_number': 0, 'data_link_types': {'Ethernet': 'DLT_EN10MB'}, 'link_type': 'ethernet', 'name': 'Ethernet6', 'port_number': 6, 'short_name': 'e6'}, {'adapter_number': 0, 'data_link_types': {'Ethernet': 'DLT_EN10MB'}, 'link_type': 'ethernet', 'name': 'Ethernet7', 'port_number': 7, 'short_name': 'e7'}], port_name_format='Ethernet{0}', port_segment_size=0, first_port_name=None, locked=False, label={'rotation': 0, 'style': 'font-family: TypeWriter;font-size: 10.0;font-weight: bold;fill: #000000;fill-opacity: 1.0;', 'text': 's1', 'x': 29, 'y': -25}, console=5041, console_host='0.0.0.0', console_type='none', console_auto_start=False, command_line=None, custom_adapters=[], height=32, width=72, symbol=':/symbols/ethernet_switch.svg', x=-892, y=-524, z=1, template_id='1966b864-93e7-32d5-965f-001384eec461', properties={'ports_mapping': [{'name': 'Ethernet0', 'port_number': 0, 'type': 'access', 'vlan': 1}, {'name': 'Ethernet1', 'port_number': 1, 'type': 'access', 'vlan': 1}, {'name': 'Ethernet2', 'port_number': 2, 'type': 'access', 'vlan': 1}, {'name': 'Ethernet3', 'port_number': 3, 'type': 'access', 'vlan': 1}, {'name': 'Ethernet4', 'port_number': 4, 'type': 'access', 'vlan': 1}, {'name': 'Ethernet5', 'port_number': 5, 'type': 'access', 'vlan': 1}, {'name': 'Ethernet6', 'port_number': 6, 'type': 'access', 'vlan': 1}, {'name': 'Ethernet7', 'port_number': 7, 'type': 'access', 'vlan': 1}]}, template=None),\n",
       " Node(name='s2', project_id='1d8eef6f-440f-4fdc-821a-acd539c6ce58', node_id='f27e7525-afe5-41ce-8bd6-748147c55811', compute_id='local', node_type='ethernet_switch', node_directory=None, status='started', ports=[{'adapter_number': 0, 'data_link_types': {'Ethernet': 'DLT_EN10MB'}, 'link_type': 'ethernet', 'name': 'Ethernet0', 'port_number': 0, 'short_name': 'e0'}, {'adapter_number': 0, 'data_link_types': {'Ethernet': 'DLT_EN10MB'}, 'link_type': 'ethernet', 'name': 'Ethernet1', 'port_number': 1, 'short_name': 'e1'}, {'adapter_number': 0, 'data_link_types': {'Ethernet': 'DLT_EN10MB'}, 'link_type': 'ethernet', 'name': 'Ethernet2', 'port_number': 2, 'short_name': 'e2'}, {'adapter_number': 0, 'data_link_types': {'Ethernet': 'DLT_EN10MB'}, 'link_type': 'ethernet', 'name': 'Ethernet3', 'port_number': 3, 'short_name': 'e3'}, {'adapter_number': 0, 'data_link_types': {'Ethernet': 'DLT_EN10MB'}, 'link_type': 'ethernet', 'name': 'Ethernet4', 'port_number': 4, 'short_name': 'e4'}, {'adapter_number': 0, 'data_link_types': {'Ethernet': 'DLT_EN10MB'}, 'link_type': 'ethernet', 'name': 'Ethernet5', 'port_number': 5, 'short_name': 'e5'}, {'adapter_number': 0, 'data_link_types': {'Ethernet': 'DLT_EN10MB'}, 'link_type': 'ethernet', 'name': 'Ethernet6', 'port_number': 6, 'short_name': 'e6'}, {'adapter_number': 0, 'data_link_types': {'Ethernet': 'DLT_EN10MB'}, 'link_type': 'ethernet', 'name': 'Ethernet7', 'port_number': 7, 'short_name': 'e7'}], port_name_format='Ethernet{0}', port_segment_size=0, first_port_name=None, locked=False, label={'rotation': 0, 'style': None, 'text': 's2', 'x': None, 'y': -26}, console=5042, console_host='0.0.0.0', console_type='none', console_auto_start=False, command_line=None, custom_adapters=[], height=32, width=72, symbol=':/symbols/ethernet_switch.svg', x=0, y=0, z=1, template_id='1966b864-93e7-32d5-965f-001384eec461', properties={'ports_mapping': [{'name': 'Ethernet0', 'port_number': 0, 'type': 'access', 'vlan': 1}, {'name': 'Ethernet1', 'port_number': 1, 'type': 'access', 'vlan': 1}, {'name': 'Ethernet2', 'port_number': 2, 'type': 'access', 'vlan': 1}, {'name': 'Ethernet3', 'port_number': 3, 'type': 'access', 'vlan': 1}, {'name': 'Ethernet4', 'port_number': 4, 'type': 'access', 'vlan': 1}, {'name': 'Ethernet5', 'port_number': 5, 'type': 'access', 'vlan': 1}, {'name': 'Ethernet6', 'port_number': 6, 'type': 'access', 'vlan': 1}, {'name': 'Ethernet7', 'port_number': 7, 'type': 'access', 'vlan': 1}]}, template=None),\n",
       " Node(name='s3', project_id='1d8eef6f-440f-4fdc-821a-acd539c6ce58', node_id='1637c418-f05d-4e97-8aa6-10b7d47ec133', compute_id='local', node_type='ethernet_switch', node_directory=None, status='started', ports=[{'adapter_number': 0, 'data_link_types': {'Ethernet': 'DLT_EN10MB'}, 'link_type': 'ethernet', 'name': 'Ethernet0', 'port_number': 0, 'short_name': 'e0'}, {'adapter_number': 0, 'data_link_types': {'Ethernet': 'DLT_EN10MB'}, 'link_type': 'ethernet', 'name': 'Ethernet1', 'port_number': 1, 'short_name': 'e1'}, {'adapter_number': 0, 'data_link_types': {'Ethernet': 'DLT_EN10MB'}, 'link_type': 'ethernet', 'name': 'Ethernet2', 'port_number': 2, 'short_name': 'e2'}, {'adapter_number': 0, 'data_link_types': {'Ethernet': 'DLT_EN10MB'}, 'link_type': 'ethernet', 'name': 'Ethernet3', 'port_number': 3, 'short_name': 'e3'}, {'adapter_number': 0, 'data_link_types': {'Ethernet': 'DLT_EN10MB'}, 'link_type': 'ethernet', 'name': 'Ethernet4', 'port_number': 4, 'short_name': 'e4'}, {'adapter_number': 0, 'data_link_types': {'Ethernet': 'DLT_EN10MB'}, 'link_type': 'ethernet', 'name': 'Ethernet5', 'port_number': 5, 'short_name': 'e5'}, {'adapter_number': 0, 'data_link_types': {'Ethernet': 'DLT_EN10MB'}, 'link_type': 'ethernet', 'name': 'Ethernet6', 'port_number': 6, 'short_name': 'e6'}, {'adapter_number': 0, 'data_link_types': {'Ethernet': 'DLT_EN10MB'}, 'link_type': 'ethernet', 'name': 'Ethernet7', 'port_number': 7, 'short_name': 'e7'}], port_name_format='Ethernet{0}', port_segment_size=0, first_port_name=None, locked=False, label={'rotation': 0, 'style': None, 'text': 's3', 'x': None, 'y': -26}, console=5043, console_host='0.0.0.0', console_type='none', console_auto_start=False, command_line=None, custom_adapters=[], height=32, width=72, symbol=':/symbols/ethernet_switch.svg', x=0, y=0, z=1, template_id='1966b864-93e7-32d5-965f-001384eec461', properties={'ports_mapping': [{'name': 'Ethernet0', 'port_number': 0, 'type': 'access', 'vlan': 1}, {'name': 'Ethernet1', 'port_number': 1, 'type': 'access', 'vlan': 1}, {'name': 'Ethernet2', 'port_number': 2, 'type': 'access', 'vlan': 1}, {'name': 'Ethernet3', 'port_number': 3, 'type': 'access', 'vlan': 1}, {'name': 'Ethernet4', 'port_number': 4, 'type': 'access', 'vlan': 1}, {'name': 'Ethernet5', 'port_number': 5, 'type': 'access', 'vlan': 1}, {'name': 'Ethernet6', 'port_number': 6, 'type': 'access', 'vlan': 1}, {'name': 'Ethernet7', 'port_number': 7, 'type': 'access', 'vlan': 1}]}, template=None),\n",
       " Node(name='s4', project_id='1d8eef6f-440f-4fdc-821a-acd539c6ce58', node_id='75fc7f9d-95cd-46dd-a842-fc2b4be7d1c7', compute_id='local', node_type='ethernet_switch', node_directory=None, status='started', ports=[{'adapter_number': 0, 'data_link_types': {'Ethernet': 'DLT_EN10MB'}, 'link_type': 'ethernet', 'name': 'Ethernet0', 'port_number': 0, 'short_name': 'e0'}, {'adapter_number': 0, 'data_link_types': {'Ethernet': 'DLT_EN10MB'}, 'link_type': 'ethernet', 'name': 'Ethernet1', 'port_number': 1, 'short_name': 'e1'}, {'adapter_number': 0, 'data_link_types': {'Ethernet': 'DLT_EN10MB'}, 'link_type': 'ethernet', 'name': 'Ethernet2', 'port_number': 2, 'short_name': 'e2'}, {'adapter_number': 0, 'data_link_types': {'Ethernet': 'DLT_EN10MB'}, 'link_type': 'ethernet', 'name': 'Ethernet3', 'port_number': 3, 'short_name': 'e3'}, {'adapter_number': 0, 'data_link_types': {'Ethernet': 'DLT_EN10MB'}, 'link_type': 'ethernet', 'name': 'Ethernet4', 'port_number': 4, 'short_name': 'e4'}, {'adapter_number': 0, 'data_link_types': {'Ethernet': 'DLT_EN10MB'}, 'link_type': 'ethernet', 'name': 'Ethernet5', 'port_number': 5, 'short_name': 'e5'}, {'adapter_number': 0, 'data_link_types': {'Ethernet': 'DLT_EN10MB'}, 'link_type': 'ethernet', 'name': 'Ethernet6', 'port_number': 6, 'short_name': 'e6'}, {'adapter_number': 0, 'data_link_types': {'Ethernet': 'DLT_EN10MB'}, 'link_type': 'ethernet', 'name': 'Ethernet7', 'port_number': 7, 'short_name': 'e7'}], port_name_format='Ethernet{0}', port_segment_size=0, first_port_name=None, locked=False, label={'rotation': 0, 'style': None, 'text': 's4', 'x': None, 'y': -26}, console=5044, console_host='0.0.0.0', console_type='none', console_auto_start=False, command_line=None, custom_adapters=[], height=32, width=72, symbol=':/symbols/ethernet_switch.svg', x=0, y=0, z=1, template_id='1966b864-93e7-32d5-965f-001384eec461', properties={'ports_mapping': [{'name': 'Ethernet0', 'port_number': 0, 'type': 'access', 'vlan': 1}, {'name': 'Ethernet1', 'port_number': 1, 'type': 'access', 'vlan': 1}, {'name': 'Ethernet2', 'port_number': 2, 'type': 'access', 'vlan': 1}, {'name': 'Ethernet3', 'port_number': 3, 'type': 'access', 'vlan': 1}, {'name': 'Ethernet4', 'port_number': 4, 'type': 'access', 'vlan': 1}, {'name': 'Ethernet5', 'port_number': 5, 'type': 'access', 'vlan': 1}, {'name': 'Ethernet6', 'port_number': 6, 'type': 'access', 'vlan': 1}, {'name': 'Ethernet7', 'port_number': 7, 'type': 'access', 'vlan': 1}]}, template=None)]"
      ]
     },
     "execution_count": 96,
     "metadata": {},
     "output_type": "execute_result"
    }
   ],
   "source": [
    "s"
   ]
  },
  {
   "cell_type": "code",
   "execution_count": 83,
   "metadata": {},
   "outputs": [
    {
     "name": "stdout",
     "output_type": "stream",
     "text": [
      "1\n",
      "2\n",
      "1\n",
      "2\n",
      "1\n",
      "2\n"
     ]
    }
   ],
   "source": [
    "for i in range(len(n)):\n",
    "    print(i%len(s) + 1)"
   ]
  },
  {
   "cell_type": "code",
   "execution_count": 86,
   "metadata": {},
   "outputs": [],
   "source": [
    "for i in range(len(n)):\n",
    "    port = (i%3) + 1 #3 here shows the number of hosts that would be connected to a switch.\n",
    "    nodes = [\n",
    "             dict(node_id=s[i//3].node_id, adapter_number=0, port_number=port),\n",
    "             dict(node_id=n[i].node_id, adapter_number=0, port_number=0)\n",
    "            ]\n",
    "    \n",
    "    Link(project_id=pid, nodes=nodes, connector=server).create()\n"
   ]
  },
  {
   "cell_type": "code",
   "execution_count": 98,
   "metadata": {},
   "outputs": [],
   "source": [
    "for i in range(len(s)-1):\n",
    "    port = (i % 2) + 4\n",
    "    nodes = [\n",
    "        dict(node_id=s[i].node_id, adapter_number=0, port_number=port),\n",
    "        dict(node_id=s[i+1].node_id, adapter_number=0, port_number=port),        \n",
    "    ]\n",
    "    Link(project_id=pid, nodes=nodes, connector=server).create()\n"
   ]
  }
 ],
 "metadata": {
  "kernelspec": {
   "display_name": "finalyear",
   "language": "python",
   "name": "python3"
  },
  "language_info": {
   "codemirror_mode": {
    "name": "ipython",
    "version": 3
   },
   "file_extension": ".py",
   "mimetype": "text/x-python",
   "name": "python",
   "nbconvert_exporter": "python",
   "pygments_lexer": "ipython3",
   "version": "3.9.17"
  },
  "orig_nbformat": 4
 },
 "nbformat": 4,
 "nbformat_minor": 2
}
