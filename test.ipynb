{
 "cells": [
  {
   "cell_type": "code",
   "execution_count": 107,
   "metadata": {},
   "outputs": [],
   "source": [
    "import gns3fy\n",
    "from gns3fy import Gns3Connector\n",
    "from gns3fy import Node, Link\n",
    "from threading import Thread\n",
    "import multiprocessing"
   ]
  },
  {
   "cell_type": "code",
   "execution_count": 111,
   "metadata": {},
   "outputs": [],
   "source": [
    "server = Gns3Connector('http://localhost:3080')\n",
    "lab = gns3fy.Project(name='test2', connector=server)\n",
    "lab.get()"
   ]
  },
  {
   "cell_type": "code",
   "execution_count": 3,
   "metadata": {},
   "outputs": [],
   "source": [
    "pid = lab.project_id"
   ]
  },
  {
   "cell_type": "code",
   "execution_count": null,
   "metadata": {},
   "outputs": [],
   "source": [
    "lab.status"
   ]
  },
  {
   "cell_type": "code",
   "execution_count": null,
   "metadata": {},
   "outputs": [],
   "source": [
    "lab.links_summary()"
   ]
  },
  {
   "cell_type": "code",
   "execution_count": null,
   "metadata": {},
   "outputs": [],
   "source": [
    "s2 = Node(project_id=pid, name='s2', connector=server, template='Ethernet switch')\n",
    "s2.create()"
   ]
  },
  {
   "cell_type": "code",
   "execution_count": null,
   "metadata": {},
   "outputs": [],
   "source": []
  },
  {
   "cell_type": "code",
   "execution_count": null,
   "metadata": {},
   "outputs": [],
   "source": [
    "host1 = Node(project_id=pid, name='host1', connector=server, template='VPCS')\n",
    "host2 = Node(project_id=pid, name='host2', connector=server, template='VPCS')"
   ]
  },
  {
   "cell_type": "code",
   "execution_count": null,
   "metadata": {},
   "outputs": [],
   "source": [
    "# host1.create()\n",
    "# host2.create()\n",
    "\n",
    "host1.get()\n",
    "host2.get()"
   ]
  },
  {
   "cell_type": "code",
   "execution_count": null,
   "metadata": {},
   "outputs": [],
   "source": [
    "host1.ports"
   ]
  },
  {
   "cell_type": "markdown",
   "metadata": {},
   "source": []
  },
  {
   "cell_type": "code",
   "execution_count": null,
   "metadata": {},
   "outputs": [],
   "source": [
    "# nodes = [\n",
    "#     dict(node_id=alpine1.node_id, adapter_number=0, port_number=1),\n",
    "#     dict(node_id=host1.node_id, adapter_number=0, port_number=0)\n",
    "# ]\n",
    "\n",
    "# h1_ap1_link = Link(project_id=pid, nodes=nodes, connector=server)\n",
    "# h1_ap1_link.create()"
   ]
  },
  {
   "cell_type": "code",
   "execution_count": null,
   "metadata": {},
   "outputs": [],
   "source": [
    "# nodes = [\n",
    "#     dict(node_id=alpine1.node_id, adapter_number=0, port_number=2),\n",
    "#     dict(node_id=host2.node_id, adapter_number=0, port_number=0)\n",
    "# ]\n",
    "\n",
    "# h2_ap1_link = Link(project_id=pid, nodes=nodes, connector=server)\n",
    "# h2_ap1_link.create()"
   ]
  },
  {
   "cell_type": "code",
   "execution_count": null,
   "metadata": {},
   "outputs": [],
   "source": [
    "import telnetlib\n",
    "import time"
   ]
  },
  {
   "cell_type": "code",
   "execution_count": null,
   "metadata": {},
   "outputs": [],
   "source": [
    "h1_console = telnetlib.Telnet('127.0.0.1', 5002, timeout=30)\n",
    "h1_console.write(b'show ip\\n')\n",
    "data = h1_console.read_until(b'EOF\\n', timeout=0.1)\n",
    "f = open('ips', 'w')\n",
    "f.write(data.decode('utf-8'))\n",
    "f.close()\n",
    "h1_console.close()"
   ]
  },
  {
   "cell_type": "code",
   "execution_count": null,
   "metadata": {},
   "outputs": [],
   "source": [
    "import re\n",
    "pattern = r'(\\d+.\\d+.\\d+.\\d+/\\d+)'\n",
    "match = re.search(pattern, data.decode(\"utf-8\"))\n",
    "if match:\n",
    "        print(match.group(1))"
   ]
  },
  {
   "cell_type": "code",
   "execution_count": null,
   "metadata": {},
   "outputs": [],
   "source": [
    "import re\n",
    "def extract_ip(data):        \n",
    "    pattern = r'(\\d+.\\d+.\\d+.\\d+/\\d+)'\n",
    "    match = re.search(pattern, data.decode(\"utf-8\"))\n",
    "    if match:\n",
    "        return match.group(1)\n",
    "    raise KeyError()"
   ]
  },
  {
   "cell_type": "code",
   "execution_count": null,
   "metadata": {},
   "outputs": [],
   "source": [
    "def get_ip(node) -> None:\n",
    "    console = telnetlib.Telnet('127.0.0.1', node.console, timeout=5)\n",
    "    console.write(b'show ip\\n')\n",
    "    data = console.read_until(b'EOF\\n', timeout=0.1)\n",
    "    try:\n",
    "        ip = extract_ip(data)\n",
    "    except KeyError:\n",
    "        print(f'ip not found for node {node.name} with port: {node.console}')\n",
    "\n",
    "    f = open('ips', 'a')\n",
    "    f.write(f'{node.name}, {node.console}, {ip}\\n')\n",
    "    f.close()\n",
    "    console.close()\n",
    "\n",
    "def set_ip(node, ip_addr, gateway_addr) -> None:\n",
    "    console = telnetlib.Telnet('127.0.0.1', node.console, timeout=5)\n",
    "    cmd = f'ip {ip_addr} {gateway_addr}\\n'\n",
    "    console.write(cmd.encode('utf-8'))\n",
    "    data = console.read_until(b'EOF\\n', timeout=0.1)\n",
    "    console.close()\n",
    "\n"
   ]
  },
  {
   "cell_type": "code",
   "execution_count": null,
   "metadata": {},
   "outputs": [],
   "source": [
    "pc4 = Node(project_id=pid, name='PC4', connector=server, template='VPCS')\n",
    "pc4.get()"
   ]
  },
  {
   "cell_type": "code",
   "execution_count": null,
   "metadata": {},
   "outputs": [],
   "source": [
    "set_ip(pc4, '192.168.1.4', '255.0.0.0')"
   ]
  },
  {
   "cell_type": "code",
   "execution_count": null,
   "metadata": {},
   "outputs": [],
   "source": [
    "get_ip(pc4)"
   ]
  },
  {
   "cell_type": "code",
   "execution_count": null,
   "metadata": {},
   "outputs": [],
   "source": [
    "nodes = lab.nodes\n",
    "for node in nodes:\n",
    "    if node.node_type == 'vpcs':\n",
    "        get_ip(node)"
   ]
  },
  {
   "cell_type": "markdown",
   "metadata": {},
   "source": [
    "##### aight now to build the tree topology : )\n",
    "##### soooo how would it look like sef"
   ]
  },
  {
   "cell_type": "code",
   "execution_count": null,
   "metadata": {},
   "outputs": [],
   "source": [
    "pc9 = Node(project_id=pid, name='pc9', connector=server, template='VPCS').create()\n"
   ]
  },
  {
   "cell_type": "code",
   "execution_count": null,
   "metadata": {},
   "outputs": [],
   "source": [
    "lab.get()\n",
    "lab.nodes"
   ]
  },
  {
   "cell_type": "code",
   "execution_count": null,
   "metadata": {},
   "outputs": [],
   "source": [
    "#create vpcs(es)\n",
    "for i in range(6):\n",
    "    Node(project_id=pid, name=f'pc{i}', connector=server, template='VPCS').create()\n",
    "\n",
    "#create switches\n",
    "for i in range(2):\n",
    "    Node(project_id=pid, name=f's{i}', connector=server, template='Ethernet switch').create()\n",
    "\n"
   ]
  },
  {
   "cell_type": "code",
   "execution_count": null,
   "metadata": {},
   "outputs": [],
   "source": [
    "lab.get()\n",
    "lab.nodes"
   ]
  },
  {
   "cell_type": "code",
   "execution_count": null,
   "metadata": {},
   "outputs": [],
   "source": [
    "3//3"
   ]
  },
  {
   "cell_type": "code",
   "execution_count": null,
   "metadata": {},
   "outputs": [],
   "source": [
    "s = lab.nodes[6:]\n",
    "n = lab.nodes[:6]\n",
    "\n",
    "\n",
    "\n"
   ]
  },
  {
   "cell_type": "code",
   "execution_count": null,
   "metadata": {},
   "outputs": [],
   "source": [
    "for i in range(3):\n",
    "    Node(project_id=pid, name=f's{i}', connector=server, template='Ethernet switch').create()\n"
   ]
  },
  {
   "cell_type": "code",
   "execution_count": null,
   "metadata": {},
   "outputs": [],
   "source": [
    "s"
   ]
  },
  {
   "cell_type": "code",
   "execution_count": null,
   "metadata": {},
   "outputs": [],
   "source": [
    "for i in range(len(n)):\n",
    "    print(i%len(s) + 1)"
   ]
  },
  {
   "cell_type": "code",
   "execution_count": null,
   "metadata": {},
   "outputs": [],
   "source": [
    "for i in range(len(n)):\n",
    "    port = (i%3) + 1 #3 here shows the number of hosts that would be connected to a switch.\n",
    "    nodes = [\n",
    "             dict(node_id=s[i//3].node_id, adapter_number=0, port_number=port),\n",
    "             dict(node_id=n[i].node_id, adapter_number=0, port_number=0)\n",
    "            ]\n",
    "    \n",
    "    Link(project_id=pid, nodes=nodes, connector=server).create()\n"
   ]
  },
  {
   "cell_type": "code",
   "execution_count": null,
   "metadata": {},
   "outputs": [],
   "source": [
    "for i in range(len(s)-1):\n",
    "    port = (i % 2) + 4\n",
    "    nodes = [\n",
    "        dict(node_id=s[i].node_id, adapter_number=0, port_number=port),\n",
    "        dict(node_id=s[i+1].node_id, adapter_number=0, port_number=port),        \n",
    "    ]\n",
    "    Link(project_id=pid, nodes=nodes, connector=server).create()\n"
   ]
  },
  {
   "cell_type": "code",
   "execution_count": null,
   "metadata": {},
   "outputs": [],
   "source": []
  },
  {
   "cell_type": "code",
   "execution_count": null,
   "metadata": {},
   "outputs": [],
   "source": []
  },
  {
   "cell_type": "code",
   "execution_count": null,
   "metadata": {},
   "outputs": [],
   "source": []
  },
  {
   "cell_type": "code",
   "execution_count": 9,
   "metadata": {},
   "outputs": [
    {
     "data": {
      "text/plain": [
       "Node(name='pc1', project_id='e2c54b87-d641-4b2e-aa34-d6173787d1cd', node_id='4132a261-5630-47ad-8771-a3b259f38d53', compute_id='local', node_type='vpcs', node_directory='/home/g1f7/GNS3/projects/e2c54b87-d641-4b2e-aa34-d6173787d1cd/project-files/vpcs/4132a261-5630-47ad-8771-a3b259f38d53', status='started', ports=[{'adapter_number': 0, 'data_link_types': {'Ethernet': 'DLT_EN10MB'}, 'link_type': 'ethernet', 'name': 'Ethernet0', 'port_number': 0, 'short_name': 'e0'}], port_name_format='Ethernet{0}', port_segment_size=0, first_port_name=None, locked=False, label={'rotation': 0, 'style': None, 'text': 'pc1', 'x': None, 'y': -40}, console=5000, console_host='0.0.0.0', console_type='telnet', console_auto_start=True, command_line='/usr/bin/vpcs -p 5001 -m 0 -i 1 -F -R -s 20000 -c 20001 -t 127.0.0.1 startup.vpc', custom_adapters=[], height=59, width=65, symbol=':/symbols/vpcs_guest.svg', x=0, y=0, z=1, template_id='19021f99-e36f-394d-b4a1-8aaa902ab9cc', properties={}, template=None)"
      ]
     },
     "execution_count": 9,
     "metadata": {},
     "output_type": "execute_result"
    }
   ],
   "source": [
    "pc1 = lab.nodes[0]\n",
    "pc1"
   ]
  },
  {
   "cell_type": "code",
   "execution_count": 13,
   "metadata": {},
   "outputs": [
    {
     "data": {
      "text/plain": [
       "True"
      ]
     },
     "execution_count": 13,
     "metadata": {},
     "output_type": "execute_result"
    }
   ],
   "source": [
    "pc1.console_auto_start"
   ]
  },
  {
   "cell_type": "code",
   "execution_count": 109,
   "metadata": {},
   "outputs": [],
   "source": [
    "import re\n",
    "import telnetlib\n",
    "import time\n",
    "\n",
    "def extract_ip(data):        \n",
    "    pattern = r'(\\d+.\\d+.\\d+.\\d+/\\d+)'\n",
    "    match = re.search(pattern, data.decode(\"utf-8\"))\n",
    "    if not match:\n",
    "        raise KeyError()\n",
    "    else:\n",
    "        return match.group(1)\n",
    "    \n",
    "\n",
    "def get_ip(node) -> None:\n",
    "    console = telnetlib.Telnet('127.0.0.1', node.console, timeout=5)\n",
    "    cmd = 'show ip\\n'\n",
    "    console.write(cmd.encode('utf-8'))\n",
    "    data = console.read_until(b'EOF\\n', timeout=0.1)\n",
    "    try:\n",
    "        ip = extract_ip(data)\n",
    "    except KeyError:\n",
    "        print(f'ip not found for node {node.name} with port: {node.console}')\n",
    "    else:\n",
    "        print(f'{node.name}, {node.console}, {ip}\\n')\n",
    "    console.close()\n",
    "\n",
    "def set_ip(node, ip_addr, gateway_addr) -> None:\n",
    "    console = telnetlib.Telnet('127.0.0.1', node.console, timeout=5)\n",
    "    cmd = f'ip {ip_addr} {gateway_addr}\\n'\n",
    "    console.write(cmd.encode('utf-8'))\n",
    "    time.sleep(3)\n",
    "    console.close()\n",
    "    \n"
   ]
  },
  {
   "cell_type": "code",
   "execution_count": 112,
   "metadata": {},
   "outputs": [
    {
     "data": {
      "text/plain": [
       "[Node(name='pc1', project_id='9612d158-02dd-4a6a-9acb-652c3a893fa4', node_id='e51edaca-972f-46b5-ab30-4ccf32426e72', compute_id='local', node_type='vpcs', node_directory='/home/g1f7/GNS3/projects/9612d158-02dd-4a6a-9acb-652c3a893fa4/project-files/vpcs/e51edaca-972f-46b5-ab30-4ccf32426e72', status='started', ports=[{'adapter_number': 0, 'data_link_types': {'Ethernet': 'DLT_EN10MB'}, 'link_type': 'ethernet', 'name': 'Ethernet0', 'port_number': 0, 'short_name': 'e0'}], port_name_format='Ethernet{0}', port_segment_size=0, first_port_name=None, locked=False, label={'rotation': 0, 'style': None, 'text': 'pc1', 'x': None, 'y': -40}, console=5000, console_host='0.0.0.0', console_type='telnet', console_auto_start=True, command_line='/usr/bin/vpcs -p 5001 -m 0 -i 1 -F -R -s 20000 -c 20001 -t 127.0.0.1 startup.vpc', custom_adapters=[], height=59, width=65, symbol=':/symbols/vpcs_guest.svg', x=0, y=0, z=1, template_id='19021f99-e36f-394d-b4a1-8aaa902ab9cc', properties={}, template=None),\n",
       " Node(name='pc2', project_id='9612d158-02dd-4a6a-9acb-652c3a893fa4', node_id='74e6bd34-731c-4d3a-8d1b-41437d85a07b', compute_id='local', node_type='vpcs', node_directory='/home/g1f7/GNS3/projects/9612d158-02dd-4a6a-9acb-652c3a893fa4/project-files/vpcs/74e6bd34-731c-4d3a-8d1b-41437d85a07b', status='started', ports=[{'adapter_number': 0, 'data_link_types': {'Ethernet': 'DLT_EN10MB'}, 'link_type': 'ethernet', 'name': 'Ethernet0', 'port_number': 0, 'short_name': 'e0'}], port_name_format='Ethernet{0}', port_segment_size=0, first_port_name=None, locked=False, label={'rotation': 0, 'style': None, 'text': 'pc2', 'x': None, 'y': -40}, console=5002, console_host='0.0.0.0', console_type='telnet', console_auto_start=True, command_line='/usr/bin/vpcs -p 5003 -m 1 -i 1 -F -R -s 20002 -c 20003 -t 127.0.0.1 startup.vpc', custom_adapters=[], height=59, width=65, symbol=':/symbols/vpcs_guest.svg', x=0, y=0, z=1, template_id='19021f99-e36f-394d-b4a1-8aaa902ab9cc', properties={}, template=None),\n",
       " Node(name='pc3', project_id='9612d158-02dd-4a6a-9acb-652c3a893fa4', node_id='d91e2905-8476-4307-ace8-2fc24f2d9016', compute_id='local', node_type='vpcs', node_directory='/home/g1f7/GNS3/projects/9612d158-02dd-4a6a-9acb-652c3a893fa4/project-files/vpcs/d91e2905-8476-4307-ace8-2fc24f2d9016', status='started', ports=[{'adapter_number': 0, 'data_link_types': {'Ethernet': 'DLT_EN10MB'}, 'link_type': 'ethernet', 'name': 'Ethernet0', 'port_number': 0, 'short_name': 'e0'}], port_name_format='Ethernet{0}', port_segment_size=0, first_port_name=None, locked=False, label={'rotation': 0, 'style': None, 'text': 'pc3', 'x': None, 'y': -40}, console=5004, console_host='0.0.0.0', console_type='telnet', console_auto_start=True, command_line='/usr/bin/vpcs -p 5005 -m 2 -i 1 -F -R -s 20004 -c 20005 -t 127.0.0.1 startup.vpc', custom_adapters=[], height=59, width=65, symbol=':/symbols/vpcs_guest.svg', x=0, y=0, z=1, template_id='19021f99-e36f-394d-b4a1-8aaa902ab9cc', properties={}, template=None),\n",
       " Node(name='pc4', project_id='9612d158-02dd-4a6a-9acb-652c3a893fa4', node_id='347c46db-1876-4f0f-88ea-cb14d5c19994', compute_id='local', node_type='vpcs', node_directory='/home/g1f7/GNS3/projects/9612d158-02dd-4a6a-9acb-652c3a893fa4/project-files/vpcs/347c46db-1876-4f0f-88ea-cb14d5c19994', status='started', ports=[{'adapter_number': 0, 'data_link_types': {'Ethernet': 'DLT_EN10MB'}, 'link_type': 'ethernet', 'name': 'Ethernet0', 'port_number': 0, 'short_name': 'e0'}], port_name_format='Ethernet{0}', port_segment_size=0, first_port_name=None, locked=False, label={'rotation': 0, 'style': None, 'text': 'pc4', 'x': None, 'y': -40}, console=5006, console_host='0.0.0.0', console_type='telnet', console_auto_start=True, command_line='/usr/bin/vpcs -p 5007 -m 3 -i 1 -F -R -s 20006 -c 20007 -t 127.0.0.1 startup.vpc', custom_adapters=[], height=59, width=65, symbol=':/symbols/vpcs_guest.svg', x=0, y=0, z=1, template_id='19021f99-e36f-394d-b4a1-8aaa902ab9cc', properties={}, template=None),\n",
       " Node(name='pc5', project_id='9612d158-02dd-4a6a-9acb-652c3a893fa4', node_id='c315a6bc-056b-4c8a-bae8-dc75d2efa3f1', compute_id='local', node_type='vpcs', node_directory='/home/g1f7/GNS3/projects/9612d158-02dd-4a6a-9acb-652c3a893fa4/project-files/vpcs/c315a6bc-056b-4c8a-bae8-dc75d2efa3f1', status='started', ports=[{'adapter_number': 0, 'data_link_types': {'Ethernet': 'DLT_EN10MB'}, 'link_type': 'ethernet', 'name': 'Ethernet0', 'port_number': 0, 'short_name': 'e0'}], port_name_format='Ethernet{0}', port_segment_size=0, first_port_name=None, locked=False, label={'rotation': 0, 'style': None, 'text': 'pc5', 'x': None, 'y': -40}, console=5008, console_host='0.0.0.0', console_type='telnet', console_auto_start=True, command_line='/usr/bin/vpcs -p 5009 -m 4 -i 1 -F -R -s 20008 -c 20009 -t 127.0.0.1 startup.vpc', custom_adapters=[], height=59, width=65, symbol=':/symbols/vpcs_guest.svg', x=0, y=0, z=1, template_id='19021f99-e36f-394d-b4a1-8aaa902ab9cc', properties={}, template=None),\n",
       " Node(name='pc6', project_id='9612d158-02dd-4a6a-9acb-652c3a893fa4', node_id='346e9b34-ebf6-4e27-8545-6e1c39938b03', compute_id='local', node_type='vpcs', node_directory='/home/g1f7/GNS3/projects/9612d158-02dd-4a6a-9acb-652c3a893fa4/project-files/vpcs/346e9b34-ebf6-4e27-8545-6e1c39938b03', status='started', ports=[{'adapter_number': 0, 'data_link_types': {'Ethernet': 'DLT_EN10MB'}, 'link_type': 'ethernet', 'name': 'Ethernet0', 'port_number': 0, 'short_name': 'e0'}], port_name_format='Ethernet{0}', port_segment_size=0, first_port_name=None, locked=False, label={'rotation': 0, 'style': None, 'text': 'pc6', 'x': None, 'y': -40}, console=5010, console_host='0.0.0.0', console_type='telnet', console_auto_start=True, command_line='/usr/bin/vpcs -p 5011 -m 5 -i 1 -F -R -s 20010 -c 20011 -t 127.0.0.1 startup.vpc', custom_adapters=[], height=59, width=65, symbol=':/symbols/vpcs_guest.svg', x=0, y=0, z=1, template_id='19021f99-e36f-394d-b4a1-8aaa902ab9cc', properties={}, template=None),\n",
       " Node(name='pc7', project_id='9612d158-02dd-4a6a-9acb-652c3a893fa4', node_id='9080eaf4-f55c-423c-ab3c-cb4be23fd74e', compute_id='local', node_type='vpcs', node_directory='/home/g1f7/GNS3/projects/9612d158-02dd-4a6a-9acb-652c3a893fa4/project-files/vpcs/9080eaf4-f55c-423c-ab3c-cb4be23fd74e', status='started', ports=[{'adapter_number': 0, 'data_link_types': {'Ethernet': 'DLT_EN10MB'}, 'link_type': 'ethernet', 'name': 'Ethernet0', 'port_number': 0, 'short_name': 'e0'}], port_name_format='Ethernet{0}', port_segment_size=0, first_port_name=None, locked=False, label={'rotation': 0, 'style': None, 'text': 'pc7', 'x': None, 'y': -40}, console=5012, console_host='0.0.0.0', console_type='telnet', console_auto_start=True, command_line='/usr/bin/vpcs -p 5013 -m 6 -i 1 -F -R -s 20012 -c 20013 -t 127.0.0.1 startup.vpc', custom_adapters=[], height=59, width=65, symbol=':/symbols/vpcs_guest.svg', x=0, y=0, z=1, template_id='19021f99-e36f-394d-b4a1-8aaa902ab9cc', properties={}, template=None),\n",
       " Node(name='pc8', project_id='9612d158-02dd-4a6a-9acb-652c3a893fa4', node_id='fb8d3e63-d0fa-4dc4-ad6b-dc353a7543d9', compute_id='local', node_type='vpcs', node_directory='/home/g1f7/GNS3/projects/9612d158-02dd-4a6a-9acb-652c3a893fa4/project-files/vpcs/fb8d3e63-d0fa-4dc4-ad6b-dc353a7543d9', status='started', ports=[{'adapter_number': 0, 'data_link_types': {'Ethernet': 'DLT_EN10MB'}, 'link_type': 'ethernet', 'name': 'Ethernet0', 'port_number': 0, 'short_name': 'e0'}], port_name_format='Ethernet{0}', port_segment_size=0, first_port_name=None, locked=False, label={'rotation': 0, 'style': None, 'text': 'pc8', 'x': None, 'y': -40}, console=5014, console_host='0.0.0.0', console_type='telnet', console_auto_start=True, command_line='/usr/bin/vpcs -p 5015 -m 7 -i 1 -F -R -s 20014 -c 20015 -t 127.0.0.1 startup.vpc', custom_adapters=[], height=59, width=65, symbol=':/symbols/vpcs_guest.svg', x=0, y=0, z=1, template_id='19021f99-e36f-394d-b4a1-8aaa902ab9cc', properties={}, template=None),\n",
       " Node(name='pc9', project_id='9612d158-02dd-4a6a-9acb-652c3a893fa4', node_id='1437f8ee-78e6-429f-82a2-91cece3aceab', compute_id='local', node_type='vpcs', node_directory='/home/g1f7/GNS3/projects/9612d158-02dd-4a6a-9acb-652c3a893fa4/project-files/vpcs/1437f8ee-78e6-429f-82a2-91cece3aceab', status='started', ports=[{'adapter_number': 0, 'data_link_types': {'Ethernet': 'DLT_EN10MB'}, 'link_type': 'ethernet', 'name': 'Ethernet0', 'port_number': 0, 'short_name': 'e0'}], port_name_format='Ethernet{0}', port_segment_size=0, first_port_name=None, locked=False, label={'rotation': 0, 'style': None, 'text': 'pc9', 'x': None, 'y': -40}, console=5016, console_host='0.0.0.0', console_type='telnet', console_auto_start=True, command_line='/usr/bin/vpcs -p 5017 -m 8 -i 1 -F -R -s 20016 -c 20017 -t 127.0.0.1 startup.vpc', custom_adapters=[], height=59, width=65, symbol=':/symbols/vpcs_guest.svg', x=0, y=0, z=1, template_id='19021f99-e36f-394d-b4a1-8aaa902ab9cc', properties={}, template=None)]"
      ]
     },
     "execution_count": 112,
     "metadata": {},
     "output_type": "execute_result"
    }
   ],
   "source": [
    "vpcs = lab.nodes[:9]\n",
    "vpcs"
   ]
  },
  {
   "cell_type": "code",
   "execution_count": 113,
   "metadata": {},
   "outputs": [
    {
     "name": "stdout",
     "output_type": "stream",
     "text": [
      "pc7, 5012, 0.0.0.0/0\n",
      "\n"
     ]
    }
   ],
   "source": [
    "get_ip(vpcs[6])"
   ]
  },
  {
   "cell_type": "code",
   "execution_count": 91,
   "metadata": {},
   "outputs": [],
   "source": [
    "\n",
    "addr = f'192.168.1.{vpcs[6].name[-1]}'\n",
    "gtway = '255.0.0.0'\n",
    "set_ip(node=vpcs[6], ip_addr=addr, gateway_addr=gtway)"
   ]
  },
  {
   "cell_type": "code",
   "execution_count": 114,
   "metadata": {},
   "outputs": [],
   "source": [
    "processes = []\n",
    "\n",
    "#assign ip addresses to vpcs\n",
    "for pc in vpcs:\n",
    "    addr = f'192.168.1.{pc.name[-1]}'\n",
    "    gtway = '255.0.0.0'\n",
    "    process = multiprocessing.Process(target=set_ip, args=[pc, addr, gtway])\n",
    "    processes.append(process)\n",
    "    process.start()\n",
    "\n",
    "for process in processes:\n",
    "    process.join()\n",
    "    \n",
    "    "
   ]
  },
  {
   "cell_type": "code",
   "execution_count": 115,
   "metadata": {},
   "outputs": [
    {
     "name": "stdout",
     "output_type": "stream",
     "text": [
      "pc1, 5000, 192.168.1.1/8\n",
      "\n",
      "pc2, 5002, 192.168.1.2/8\n",
      "\n",
      "pc3, 5004, 192.168.1.3/8\n",
      "\n",
      "pc4, 5006, 192.168.1.4/8\n",
      "\n",
      "pc5, 5008, 192.168.1.5/8\n",
      "\n",
      "pc6, 5010, 192.168.1.6/8\n",
      "\n",
      "pc7, 5012, 192.168.1.7/8\n",
      "\n",
      "pc8, 5014, 192.168.1.8/8\n",
      "\n",
      "pc9, 5016, 192.168.1.9/8\n",
      "\n"
     ]
    }
   ],
   "source": [
    "for pc in vpcs:\n",
    "    get_ip(pc)"
   ]
  },
  {
   "cell_type": "code",
   "execution_count": 100,
   "metadata": {},
   "outputs": [
    {
     "name": "stdout",
     "output_type": "stream",
     "text": [
      "5 processes started\n",
      "5 processes finished\n"
     ]
    },
    {
     "name": "stdout",
     "output_type": "stream",
     "text": [
      "1\n",
      "2\n",
      "3\n",
      "4\n",
      "5\n"
     ]
    }
   ],
   "source": [
    "def test(a):\n",
    "    time.sleep(2)\n",
    "    print(a)\n",
    "ii = [1, 2, 3, 4, 5]\n",
    "\n",
    "processes = []\n",
    "\n",
    "for i in ii:\n",
    "    process = multiprocessing.Process(target=test, args=[i])\n",
    "    processes.append(process)\n",
    "    process.start()\n",
    "\n",
    "print('5 processes started')\n",
    "\n",
    "# for process in processes:\n",
    "#     process.join()\n",
    "\n",
    "print('5 processes finished')"
   ]
  }
 ],
 "metadata": {
  "kernelspec": {
   "display_name": "finalyear",
   "language": "python",
   "name": "python3"
  },
  "language_info": {
   "codemirror_mode": {
    "name": "ipython",
    "version": 3
   },
   "file_extension": ".py",
   "mimetype": "text/x-python",
   "name": "python",
   "nbconvert_exporter": "python",
   "pygments_lexer": "ipython3",
   "version": "3.9.17"
  },
  "orig_nbformat": 4
 },
 "nbformat": 4,
 "nbformat_minor": 2
}
