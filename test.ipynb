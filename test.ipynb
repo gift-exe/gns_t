{
 "cells": [
  {
   "cell_type": "code",
   "execution_count": 60,
   "metadata": {},
   "outputs": [],
   "source": [
    "import gns3fy\n",
    "from gns3fy import Gns3Connector\n",
    "from gns3fy import Node, Link"
   ]
  },
  {
   "cell_type": "code",
   "execution_count": 61,
   "metadata": {},
   "outputs": [],
   "source": [
    "server = Gns3Connector('http://localhost:3080')\n",
    "lab = gns3fy.Project(name='test', connector=server)\n",
    "lab.get()"
   ]
  },
  {
   "cell_type": "code",
   "execution_count": 62,
   "metadata": {},
   "outputs": [],
   "source": [
    "pid = lab.project_id"
   ]
  },
  {
   "cell_type": "code",
   "execution_count": 63,
   "metadata": {},
   "outputs": [
    {
     "data": {
      "text/plain": [
       "'opened'"
      ]
     },
     "execution_count": 63,
     "metadata": {},
     "output_type": "execute_result"
    }
   ],
   "source": [
    "lab.status"
   ]
  },
  {
   "cell_type": "code",
   "execution_count": 64,
   "metadata": {},
   "outputs": [
    {
     "name": "stdout",
     "output_type": "stream",
     "text": [
      "alpine1: Ethernet0 ---- alpine2: Ethernet0\n",
      "alpine1: Ethernet1 ---- host1: Ethernet0\n",
      "alpine1: Ethernet2 ---- host2: Ethernet0\n"
     ]
    }
   ],
   "source": [
    "lab.links_summary()"
   ]
  },
  {
   "cell_type": "code",
   "execution_count": 65,
   "metadata": {},
   "outputs": [],
   "source": [
    "host1 = Node(project_id=pid, name='host1', connector=server, template='VPCS')\n",
    "host2 = Node(project_id=pid, name='host2', connector=server, template='VPCS')"
   ]
  },
  {
   "cell_type": "code",
   "execution_count": 7,
   "metadata": {},
   "outputs": [],
   "source": [
    "# host1.create()\n",
    "# host2.create()\n",
    "\n",
    "host1.get()\n",
    "host2.get()"
   ]
  },
  {
   "cell_type": "code",
   "execution_count": 8,
   "metadata": {},
   "outputs": [
    {
     "data": {
      "text/plain": [
       "[{'adapter_number': 0,\n",
       "  'data_link_types': {'Ethernet': 'DLT_EN10MB'},\n",
       "  'link_type': 'ethernet',\n",
       "  'name': 'Ethernet0',\n",
       "  'port_number': 0,\n",
       "  'short_name': 'e0'}]"
      ]
     },
     "execution_count": 8,
     "metadata": {},
     "output_type": "execute_result"
    }
   ],
   "source": [
    "host1.ports"
   ]
  },
  {
   "cell_type": "markdown",
   "metadata": {},
   "source": []
  },
  {
   "cell_type": "code",
   "execution_count": 9,
   "metadata": {},
   "outputs": [],
   "source": [
    "# nodes = [\n",
    "#     dict(node_id=alpine1.node_id, adapter_number=0, port_number=1),\n",
    "#     dict(node_id=host1.node_id, adapter_number=0, port_number=0)\n",
    "# ]\n",
    "\n",
    "# h1_ap1_link = Link(project_id=pid, nodes=nodes, connector=server)\n",
    "# h1_ap1_link.create()"
   ]
  },
  {
   "cell_type": "code",
   "execution_count": 10,
   "metadata": {},
   "outputs": [],
   "source": [
    "# nodes = [\n",
    "#     dict(node_id=alpine1.node_id, adapter_number=0, port_number=2),\n",
    "#     dict(node_id=host2.node_id, adapter_number=0, port_number=0)\n",
    "# ]\n",
    "\n",
    "# h2_ap1_link = Link(project_id=pid, nodes=nodes, connector=server)\n",
    "# h2_ap1_link.create()"
   ]
  },
  {
   "cell_type": "code",
   "execution_count": 27,
   "metadata": {},
   "outputs": [],
   "source": [
    "import telnetlib\n",
    "import time"
   ]
  },
  {
   "cell_type": "code",
   "execution_count": 86,
   "metadata": {},
   "outputs": [],
   "source": [
    "h1_console = telnetlib.Telnet('127.0.0.1', 5002, timeout=30)\n",
    "h1_console.write(b'show ip\\n')\n",
    "data = h1_console.read_until(b'EOF\\n', timeout=0.1)\n",
    "f = open('ips', 'w')\n",
    "f.write(data.decode('utf-8'))\n",
    "f.close()\n",
    "h1_console.close()"
   ]
  },
  {
   "cell_type": "code",
   "execution_count": 106,
   "metadata": {},
   "outputs": [
    {
     "name": "stdout",
     "output_type": "stream",
     "text": [
      "192.168.1.2/8\n"
     ]
    }
   ],
   "source": [
    "import re\n",
    "pattern = r'(\\d+.\\d+.\\d+.\\d+/\\d+)'\n",
    "match = re.search(pattern, data.decode(\"utf-8\"))\n",
    "if match:\n",
    "        print(match.group(1))"
   ]
  },
  {
   "cell_type": "code",
   "execution_count": 104,
   "metadata": {},
   "outputs": [],
   "source": [
    "import re\n",
    "def extract_ip(data):        \n",
    "    pattern = r'(\\d+.\\d+.\\d+.\\d+/\\d+)'\n",
    "    match = re.search(pattern, data.decode(\"utf-8\"))\n",
    "    if match:\n",
    "        return match.group(1)\n",
    "    raise KeyError()"
   ]
  },
  {
   "cell_type": "code",
   "execution_count": 107,
   "metadata": {},
   "outputs": [],
   "source": [
    "def get_ip(node) -> None:\n",
    "    console = telnetlib.Telnet('127.0.0.1', node.console, timeout=5)\n",
    "    console.write(b'show ip\\n')\n",
    "    data = console.read_until(b'EOF\\n', timeout=0.1)\n",
    "    try:\n",
    "        ip = extract_ip(data)\n",
    "    except KeyError:\n",
    "        print(f'ip not found for node {node.name} with port: {node.console}')\n",
    "\n",
    "    f = open('ips', 'a')\n",
    "    f.write(f'{node.name}, {node.console}, {ip}\\n')\n",
    "    f.close()\n",
    "    console.close()\n"
   ]
  },
  {
   "cell_type": "code",
   "execution_count": 108,
   "metadata": {},
   "outputs": [],
   "source": [
    "nodes = lab.nodes\n",
    "for node in nodes:\n",
    "    if node.node_type == 'vpcs':\n",
    "        get_ip(node)"
   ]
  },
  {
   "cell_type": "markdown",
   "metadata": {},
   "source": [
    "##### aight now to build the tree topology : )\n",
    "##### soooo how would it look like sef"
   ]
  },
  {
   "cell_type": "code",
   "execution_count": null,
   "metadata": {},
   "outputs": [],
   "source": [
    "def build_topo():\n",
    "    "
   ]
  }
 ],
 "metadata": {
  "kernelspec": {
   "display_name": "finalyear",
   "language": "python",
   "name": "python3"
  },
  "language_info": {
   "codemirror_mode": {
    "name": "ipython",
    "version": 3
   },
   "file_extension": ".py",
   "mimetype": "text/x-python",
   "name": "python",
   "nbconvert_exporter": "python",
   "pygments_lexer": "ipython3",
   "version": "3.9.17"
  },
  "orig_nbformat": 4
 },
 "nbformat": 4,
 "nbformat_minor": 2
}
