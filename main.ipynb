{
 "cells": [
  {
   "cell_type": "code",
   "execution_count": 6,
   "metadata": {},
   "outputs": [],
   "source": [
    "from gns3fy import Gns3Connector, Project\n",
    "from build_topo import TopoBuilder\n",
    "from ip_crud import set_ip, get_ip\n",
    "import time\n",
    "import multiprocessing"
   ]
  },
  {
   "cell_type": "code",
   "execution_count": 7,
   "metadata": {},
   "outputs": [],
   "source": [
    "server = Gns3Connector('http://localhost:3080')\n",
    "project = Project(name='test2', connector=server)\n",
    "project.get()"
   ]
  },
  {
   "cell_type": "code",
   "execution_count": 8,
   "metadata": {},
   "outputs": [],
   "source": [
    "#build topology\n",
    "topo = TopoBuilder(server=server, project=project)\n",
    "topo.build(9, 3, 3)\n"
   ]
  },
  {
   "cell_type": "code",
   "execution_count": 9,
   "metadata": {},
   "outputs": [],
   "source": [
    "#get project\n",
    "project.get()\n",
    "\n",
    "#get vpc nodes to assign ip adddress\n",
    "vpcses = [node for node in project.nodes if node.node_type == 'vpcs']\n",
    "\n",
    "processes = []\n",
    "\n",
    "#assign ip addresses to vpcs\n",
    "for pc in vpcses:\n",
    "    addr = f'192.168.1.{pc.name[-1]}'\n",
    "    gtway = '255.0.0.0'\n",
    "    process = multiprocessing.Process(target=set_ip, args=[pc, addr, gtway])\n",
    "    processes.append(process)\n",
    "    process.start()\n",
    "\n",
    "#wait till all the processes run completely before going on\n",
    "for process in processes:\n",
    "    process.join()\n",
    "    "
   ]
  },
  {
   "cell_type": "code",
   "execution_count": 11,
   "metadata": {},
   "outputs": [
    {
     "name": "stdout",
     "output_type": "stream",
     "text": [
      "192.168.1.1/8\n",
      "192.168.1.2/8\n",
      "192.168.1.3/8\n",
      "192.168.1.4/8\n",
      "192.168.1.5/8\n",
      "192.168.1.6/8\n",
      "192.168.1.7/8\n",
      "192.168.1.8/8\n",
      "192.168.1.9/8\n"
     ]
    }
   ],
   "source": [
    "#get project\n",
    "project.get()\n",
    "\n",
    "vpcs_ips = [get_ip(node) for node in project.nodes if node.node_type == 'vpcs']\n",
    "\n",
    "for vpcs_ip in vpcs_ips:\n",
    "    print(vpcs_ip)\n"
   ]
  },
  {
   "cell_type": "code",
   "execution_count": null,
   "metadata": {},
   "outputs": [],
   "source": []
  }
 ],
 "metadata": {
  "kernelspec": {
   "display_name": "finalyear",
   "language": "python",
   "name": "python3"
  },
  "language_info": {
   "codemirror_mode": {
    "name": "ipython",
    "version": 3
   },
   "file_extension": ".py",
   "mimetype": "text/x-python",
   "name": "python",
   "nbconvert_exporter": "python",
   "pygments_lexer": "ipython3",
   "version": "3.9.17"
  },
  "orig_nbformat": 4
 },
 "nbformat": 4,
 "nbformat_minor": 2
}
