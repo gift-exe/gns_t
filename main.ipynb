{
 "cells": [
  {
   "cell_type": "code",
   "execution_count": 1,
   "metadata": {},
   "outputs": [],
   "source": [
    "from gns3fy import Gns3Connector, Project\n",
    "from build_topo import TopoBuilder\n",
    "from ip_crud import set_ip, get_ip\n",
    "import time\n",
    "import multiprocessing"
   ]
  },
  {
   "cell_type": "code",
   "execution_count": 2,
   "metadata": {},
   "outputs": [],
   "source": [
    "server = Gns3Connector('http://localhost:3080')\n",
    "project = Project(name='test2', connector=server)\n",
    "project.get()"
   ]
  },
  {
   "cell_type": "code",
   "execution_count": 3,
   "metadata": {},
   "outputs": [],
   "source": [
    "#build topology\n",
    "topo = TopoBuilder(server=server, project=project)\n",
    "vpcs, switches = topo.build(9, 3, 3)\n"
   ]
  },
  {
   "cell_type": "code",
   "execution_count": 4,
   "metadata": {},
   "outputs": [
    {
     "name": "stdout",
     "output_type": "stream",
     "text": [
      "pc1 ip assigned successfully 192.168.1.1\n",
      "pc2 ip assigned successfully 192.168.1.2\n",
      "pc3 ip assigned successfully 192.168.1.3\n",
      "pc4 ip assigned successfully 192.168.1.4\n",
      "pc5 ip assigned successfully 192.168.1.5\n",
      "pc6 ip assigned successfully 192.168.1.6\n",
      "pc7 ip assigned successfully 192.168.1.7\n",
      "pc8 ip assigned successfully 192.168.1.8\n",
      "pc9 ip assigned successfully 192.168.1.9\n"
     ]
    }
   ],
   "source": [
    "vpcs_ip = topo.assign_ips(vpcs)"
   ]
  },
  {
   "cell_type": "markdown",
   "metadata": {},
   "source": [
    "next step is to collect data : )"
   ]
  },
  {
   "cell_type": "code",
   "execution_count": null,
   "metadata": {},
   "outputs": [],
   "source": []
  }
 ],
 "metadata": {
  "kernelspec": {
   "display_name": "finalyear",
   "language": "python",
   "name": "python3"
  },
  "language_info": {
   "codemirror_mode": {
    "name": "ipython",
    "version": 3
   },
   "file_extension": ".py",
   "mimetype": "text/x-python",
   "name": "python",
   "nbconvert_exporter": "python",
   "pygments_lexer": "ipython3",
   "version": "3.9.17"
  },
  "orig_nbformat": 4
 },
 "nbformat": 4,
 "nbformat_minor": 2
}
